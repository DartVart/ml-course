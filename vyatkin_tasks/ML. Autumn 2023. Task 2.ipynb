{
 "cells":[
  {
   "cell_type":"markdown",
   "source":[
    "# Walmart sales\n",
    "<img src=\"https:\/\/thefashioneaste.files.wordpress.com\/2013\/09\/ryan-gosling-drive-denim-jacket.png\">"
   ],
   "attachments":{
    
   },
   "metadata":{
    "datalore":{
     "node_id":"KHFLl8Gia5Hp5XBEvHRkix",
     "type":"MD",
     "hide_input_from_viewers":true,
     "hide_output_from_viewers":true
    }
   }
  },
  {
   "cell_type":"markdown",
   "source":[
    "# Продажи в Walmart 🛒"
   ],
   "attachments":{
    
   },
   "metadata":{
    "datalore":{
     "node_id":"tNF5YpnxSgf74M4IqMS1SE",
     "type":"MD",
     "hide_input_from_viewers":true,
     "hide_output_from_viewers":true
    }
   }
  },
  {
   "cell_type":"markdown",
   "source":[
    "## Какие задачи решены?\n",
    "\n",
    "😱 Выполнил все поставленные задачи 😱"
   ],
   "attachments":{
    
   },
   "metadata":{
    "datalore":{
     "node_id":"JE84HO54Gn28hgZzRXRrez",
     "type":"MD",
     "hide_input_from_viewers":true,
     "hide_output_from_viewers":true
    }
   }
  },
  {
   "cell_type":"markdown",
   "source":[
    "## Установим нужные пакеты"
   ],
   "attachments":{
    
   },
   "metadata":{
    "datalore":{
     "node_id":"3nZ9HZLdCtNXt9b6aChd5a",
     "type":"MD",
     "hide_input_from_viewers":true,
     "hide_output_from_viewers":true
    }
   }
  },
  {
   "cell_type":"code",
   "source":[
    "import math\n",
    "import random\n",
    "from itertools import product\n",
    "\n",
    "import pandas as pd\n",
    "import seaborn as sns\n",
    "import matplotlib.pyplot as plt\n",
    "import numpy as np\n",
    "from sklearn.linear_model import Ridge\n",
    "from sklearn.model_selection import train_test_split, GridSearchCV, cross_validate\n",
    "from sklearn.metrics import mean_squared_error, r2_score\n",
    "from sklearn.preprocessing import StandardScaler\n",
    "from sklearn.base import BaseEstimator\n",
    "from sklearn.utils.validation import check_X_y\n",
    "from sklearn.feature_selection import RFECV\n",
    "\n",
    "%precision %.4f\n",
    "\n",
    "import warnings\n",
    "\n",
    "warnings.filterwarnings('ignore')\n",
    "sns.set(rc={'figure.figsize': (20, 10)})"
   ],
   "execution_count":171,
   "outputs":[
    
   ],
   "metadata":{
    "datalore":{
     "node_id":"KhcZRxVzqBvtB1dbkXLE2m",
     "type":"CODE",
     "hide_input_from_viewers":true,
     "hide_output_from_viewers":true
    }
   }
  },
  {
   "cell_type":"markdown",
   "source":[
    "# Подготовим данные и помедитируем над ними"
   ],
   "attachments":{
    
   },
   "metadata":{
    "datalore":{
     "node_id":"4AOlpAnDLyIhlCsHo7JJUq",
     "type":"MD",
     "hide_input_from_viewers":true,
     "hide_output_from_viewers":true
    }
   }
  },
  {
   "cell_type":"markdown",
   "source":[
    "## Качаем данные"
   ],
   "attachments":{
    
   },
   "metadata":{
    "datalore":{
     "node_id":"mqy3sW4BQZCZNJinpb94cA",
     "type":"MD",
     "hide_input_from_viewers":true,
     "hide_output_from_viewers":true
    }
   }
  },
  {
   "cell_type":"markdown",
   "source":[
    "Скачиваем [данные о продажах в разных магазинах Walmart](https:\/\/www.kaggle.com\/datasets\/yasserh\/walmart-dataset), собираемые еженедельно с 5 февраля 2010 по 1 ноября 2012.\n",
    "\n",
    "**Описание признаков**\n",
    "\n",
    "* `Store` — условный номер магазина\n",
    "* `Date` — дата сбора данных\n",
    "* `Weekly_Sales` — продажи за неделю\n",
    "* `Holiday_Flag` — праздничная ли неделя \n",
    "* `Temperature` — средняя (?) температура за неделю продажи\n",
    "* `Fuel_Price` — стоимость топлива в регионе с магазином\n",
    "* `CPI` — индекс потребительских цен\n",
    "* `Unemployment` — уровень безработицы\n",
    "\n",
    "**Задача**\n",
    "\n",
    "Напомним, что ставим задачу **регрессии** — будем предсказывать признак `Weekly_Sales`. "
   ],
   "attachments":{
    
   },
   "metadata":{
    "datalore":{
     "node_id":"s3hZcIbUFuvjdry1JIFsY7",
     "type":"MD",
     "hide_input_from_viewers":true,
     "hide_output_from_viewers":true
    }
   }
  },
  {
   "cell_type":"code",
   "source":[
    "df_dirty = pd.read_csv('Walmart.csv')\n",
    "df_dirty"
   ],
   "execution_count":172,
   "outputs":[
    {
     "data":{
      "text\/html":[
       "<div>\n",
       "<style scoped>\n",
       "    .dataframe tbody tr th:only-of-type {\n",
       "        vertical-align: middle;\n",
       "    }\n",
       "\n",
       "    .dataframe tbody tr th {\n",
       "        vertical-align: top;\n",
       "    }\n",
       "\n",
       "    .dataframe thead th {\n",
       "        text-align: right;\n",
       "    }\n",
       "<\/style>\n",
       "<table border=\"1\" class=\"dataframe\">\n",
       "  <thead>\n",
       "    <tr style=\"text-align: right;\">\n",
       "      <th><\/th>\n",
       "      <th>Store<\/th>\n",
       "      <th>Date<\/th>\n",
       "      <th>Weekly_Sales<\/th>\n",
       "      <th>Holiday_Flag<\/th>\n",
       "      <th>Temperature<\/th>\n",
       "      <th>Fuel_Price<\/th>\n",
       "      <th>CPI<\/th>\n",
       "      <th>Unemployment<\/th>\n",
       "    <\/tr>\n",
       "  <\/thead>\n",
       "  <tbody>\n",
       "    <tr>\n",
       "      <th>0<\/th>\n",
       "      <td>1<\/td>\n",
       "      <td>05-02-2010<\/td>\n",
       "      <td>1643690.90<\/td>\n",
       "      <td>0<\/td>\n",
       "      <td>42.31<\/td>\n",
       "      <td>2.572<\/td>\n",
       "      <td>211.096358<\/td>\n",
       "      <td>8.106<\/td>\n",
       "    <\/tr>\n",
       "    <tr>\n",
       "      <th>1<\/th>\n",
       "      <td>1<\/td>\n",
       "      <td>12-02-2010<\/td>\n",
       "      <td>1641957.44<\/td>\n",
       "      <td>1<\/td>\n",
       "      <td>38.51<\/td>\n",
       "      <td>2.548<\/td>\n",
       "      <td>211.242170<\/td>\n",
       "      <td>8.106<\/td>\n",
       "    <\/tr>\n",
       "    <tr>\n",
       "      <th>2<\/th>\n",
       "      <td>1<\/td>\n",
       "      <td>19-02-2010<\/td>\n",
       "      <td>1611968.17<\/td>\n",
       "      <td>0<\/td>\n",
       "      <td>39.93<\/td>\n",
       "      <td>2.514<\/td>\n",
       "      <td>211.289143<\/td>\n",
       "      <td>8.106<\/td>\n",
       "    <\/tr>\n",
       "    <tr>\n",
       "      <th>3<\/th>\n",
       "      <td>1<\/td>\n",
       "      <td>26-02-2010<\/td>\n",
       "      <td>1409727.59<\/td>\n",
       "      <td>0<\/td>\n",
       "      <td>46.63<\/td>\n",
       "      <td>2.561<\/td>\n",
       "      <td>211.319643<\/td>\n",
       "      <td>8.106<\/td>\n",
       "    <\/tr>\n",
       "    <tr>\n",
       "      <th>4<\/th>\n",
       "      <td>1<\/td>\n",
       "      <td>05-03-2010<\/td>\n",
       "      <td>1554806.68<\/td>\n",
       "      <td>0<\/td>\n",
       "      <td>46.50<\/td>\n",
       "      <td>2.625<\/td>\n",
       "      <td>211.350143<\/td>\n",
       "      <td>8.106<\/td>\n",
       "    <\/tr>\n",
       "    <tr>\n",
       "      <th>...<\/th>\n",
       "      <td>...<\/td>\n",
       "      <td>...<\/td>\n",
       "      <td>...<\/td>\n",
       "      <td>...<\/td>\n",
       "      <td>...<\/td>\n",
       "      <td>...<\/td>\n",
       "      <td>...<\/td>\n",
       "      <td>...<\/td>\n",
       "    <\/tr>\n",
       "    <tr>\n",
       "      <th>6430<\/th>\n",
       "      <td>45<\/td>\n",
       "      <td>28-09-2012<\/td>\n",
       "      <td>713173.95<\/td>\n",
       "      <td>0<\/td>\n",
       "      <td>64.88<\/td>\n",
       "      <td>3.997<\/td>\n",
       "      <td>192.013558<\/td>\n",
       "      <td>8.684<\/td>\n",
       "    <\/tr>\n",
       "    <tr>\n",
       "      <th>6431<\/th>\n",
       "      <td>45<\/td>\n",
       "      <td>05-10-2012<\/td>\n",
       "      <td>733455.07<\/td>\n",
       "      <td>0<\/td>\n",
       "      <td>64.89<\/td>\n",
       "      <td>3.985<\/td>\n",
       "      <td>192.170412<\/td>\n",
       "      <td>8.667<\/td>\n",
       "    <\/tr>\n",
       "    <tr>\n",
       "      <th>6432<\/th>\n",
       "      <td>45<\/td>\n",
       "      <td>12-10-2012<\/td>\n",
       "      <td>734464.36<\/td>\n",
       "      <td>0<\/td>\n",
       "      <td>54.47<\/td>\n",
       "      <td>4.000<\/td>\n",
       "      <td>192.327265<\/td>\n",
       "      <td>8.667<\/td>\n",
       "    <\/tr>\n",
       "    <tr>\n",
       "      <th>6433<\/th>\n",
       "      <td>45<\/td>\n",
       "      <td>19-10-2012<\/td>\n",
       "      <td>718125.53<\/td>\n",
       "      <td>0<\/td>\n",
       "      <td>56.47<\/td>\n",
       "      <td>3.969<\/td>\n",
       "      <td>192.330854<\/td>\n",
       "      <td>8.667<\/td>\n",
       "    <\/tr>\n",
       "    <tr>\n",
       "      <th>6434<\/th>\n",
       "      <td>45<\/td>\n",
       "      <td>26-10-2012<\/td>\n",
       "      <td>760281.43<\/td>\n",
       "      <td>0<\/td>\n",
       "      <td>58.85<\/td>\n",
       "      <td>3.882<\/td>\n",
       "      <td>192.308899<\/td>\n",
       "      <td>8.667<\/td>\n",
       "    <\/tr>\n",
       "  <\/tbody>\n",
       "<\/table>\n",
       "<p>6435 rows × 8 columns<\/p>\n",
       "<\/div>"
      ]
     },
     "metadata":{
      
     },
     "output_type":"display_data"
    }
   ],
   "metadata":{
    "datalore":{
     "node_id":"SDBFgizqasJJUfWbQWzxKZ",
     "type":"CODE",
     "hide_input_from_viewers":true,
     "hide_output_from_viewers":true
    }
   }
  },
  {
   "cell_type":"markdown",
   "source":[
    "## Выделим призанки даты"
   ],
   "attachments":{
    
   },
   "metadata":{
    "datalore":{
     "node_id":"BKyGh95zfaqjlBSe7pzrsL",
     "type":"MD",
     "hide_input_from_viewers":true,
     "hide_output_from_viewers":true
    }
   }
  },
  {
   "cell_type":"markdown",
   "source":[
    "Разобьем дату на несколько столбцов с тем предположением, что, возможно, номер недели относительно месяца, а также сам месяц будут влиять на количество продаж"
   ],
   "attachments":{
    
   },
   "metadata":{
    "datalore":{
     "node_id":"XjXwMelGkMogyzePCsgTAd",
     "type":"MD",
     "hide_input_from_viewers":true,
     "hide_output_from_viewers":true
    }
   }
  },
  {
   "cell_type":"code",
   "source":[
    "df = df_dirty.copy()\n",
    "df['Date'] = pd.to_datetime(df['Date'], format='%d-%m-%Y')\n",
    "df['Week'] = df['Date'].apply(lambda d: (d.day - 1) \/\/ 7 + 1)\n",
    "df['Month'] = df['Date'].dt.month\n",
    "df['Year'] = df['Date'].dt.year\n",
    "df.drop(columns=['Date'], inplace=True)\n",
    "df"
   ],
   "execution_count":173,
   "outputs":[
    {
     "data":{
      "text\/html":[
       "<div>\n",
       "<style scoped>\n",
       "    .dataframe tbody tr th:only-of-type {\n",
       "        vertical-align: middle;\n",
       "    }\n",
       "\n",
       "    .dataframe tbody tr th {\n",
       "        vertical-align: top;\n",
       "    }\n",
       "\n",
       "    .dataframe thead th {\n",
       "        text-align: right;\n",
       "    }\n",
       "<\/style>\n",
       "<table border=\"1\" class=\"dataframe\">\n",
       "  <thead>\n",
       "    <tr style=\"text-align: right;\">\n",
       "      <th><\/th>\n",
       "      <th>Store<\/th>\n",
       "      <th>Weekly_Sales<\/th>\n",
       "      <th>Holiday_Flag<\/th>\n",
       "      <th>Temperature<\/th>\n",
       "      <th>Fuel_Price<\/th>\n",
       "      <th>CPI<\/th>\n",
       "      <th>Unemployment<\/th>\n",
       "      <th>Week<\/th>\n",
       "      <th>Month<\/th>\n",
       "      <th>Year<\/th>\n",
       "    <\/tr>\n",
       "  <\/thead>\n",
       "  <tbody>\n",
       "    <tr>\n",
       "      <th>0<\/th>\n",
       "      <td>1<\/td>\n",
       "      <td>1643690.90<\/td>\n",
       "      <td>0<\/td>\n",
       "      <td>42.31<\/td>\n",
       "      <td>2.572<\/td>\n",
       "      <td>211.096358<\/td>\n",
       "      <td>8.106<\/td>\n",
       "      <td>1<\/td>\n",
       "      <td>2<\/td>\n",
       "      <td>2010<\/td>\n",
       "    <\/tr>\n",
       "    <tr>\n",
       "      <th>1<\/th>\n",
       "      <td>1<\/td>\n",
       "      <td>1641957.44<\/td>\n",
       "      <td>1<\/td>\n",
       "      <td>38.51<\/td>\n",
       "      <td>2.548<\/td>\n",
       "      <td>211.242170<\/td>\n",
       "      <td>8.106<\/td>\n",
       "      <td>2<\/td>\n",
       "      <td>2<\/td>\n",
       "      <td>2010<\/td>\n",
       "    <\/tr>\n",
       "    <tr>\n",
       "      <th>2<\/th>\n",
       "      <td>1<\/td>\n",
       "      <td>1611968.17<\/td>\n",
       "      <td>0<\/td>\n",
       "      <td>39.93<\/td>\n",
       "      <td>2.514<\/td>\n",
       "      <td>211.289143<\/td>\n",
       "      <td>8.106<\/td>\n",
       "      <td>3<\/td>\n",
       "      <td>2<\/td>\n",
       "      <td>2010<\/td>\n",
       "    <\/tr>\n",
       "    <tr>\n",
       "      <th>3<\/th>\n",
       "      <td>1<\/td>\n",
       "      <td>1409727.59<\/td>\n",
       "      <td>0<\/td>\n",
       "      <td>46.63<\/td>\n",
       "      <td>2.561<\/td>\n",
       "      <td>211.319643<\/td>\n",
       "      <td>8.106<\/td>\n",
       "      <td>4<\/td>\n",
       "      <td>2<\/td>\n",
       "      <td>2010<\/td>\n",
       "    <\/tr>\n",
       "    <tr>\n",
       "      <th>4<\/th>\n",
       "      <td>1<\/td>\n",
       "      <td>1554806.68<\/td>\n",
       "      <td>0<\/td>\n",
       "      <td>46.50<\/td>\n",
       "      <td>2.625<\/td>\n",
       "      <td>211.350143<\/td>\n",
       "      <td>8.106<\/td>\n",
       "      <td>1<\/td>\n",
       "      <td>3<\/td>\n",
       "      <td>2010<\/td>\n",
       "    <\/tr>\n",
       "    <tr>\n",
       "      <th>...<\/th>\n",
       "      <td>...<\/td>\n",
       "      <td>...<\/td>\n",
       "      <td>...<\/td>\n",
       "      <td>...<\/td>\n",
       "      <td>...<\/td>\n",
       "      <td>...<\/td>\n",
       "      <td>...<\/td>\n",
       "      <td>...<\/td>\n",
       "      <td>...<\/td>\n",
       "      <td>...<\/td>\n",
       "    <\/tr>\n",
       "    <tr>\n",
       "      <th>6430<\/th>\n",
       "      <td>45<\/td>\n",
       "      <td>713173.95<\/td>\n",
       "      <td>0<\/td>\n",
       "      <td>64.88<\/td>\n",
       "      <td>3.997<\/td>\n",
       "      <td>192.013558<\/td>\n",
       "      <td>8.684<\/td>\n",
       "      <td>4<\/td>\n",
       "      <td>9<\/td>\n",
       "      <td>2012<\/td>\n",
       "    <\/tr>\n",
       "    <tr>\n",
       "      <th>6431<\/th>\n",
       "      <td>45<\/td>\n",
       "      <td>733455.07<\/td>\n",
       "      <td>0<\/td>\n",
       "      <td>64.89<\/td>\n",
       "      <td>3.985<\/td>\n",
       "      <td>192.170412<\/td>\n",
       "      <td>8.667<\/td>\n",
       "      <td>1<\/td>\n",
       "      <td>10<\/td>\n",
       "      <td>2012<\/td>\n",
       "    <\/tr>\n",
       "    <tr>\n",
       "      <th>6432<\/th>\n",
       "      <td>45<\/td>\n",
       "      <td>734464.36<\/td>\n",
       "      <td>0<\/td>\n",
       "      <td>54.47<\/td>\n",
       "      <td>4.000<\/td>\n",
       "      <td>192.327265<\/td>\n",
       "      <td>8.667<\/td>\n",
       "      <td>2<\/td>\n",
       "      <td>10<\/td>\n",
       "      <td>2012<\/td>\n",
       "    <\/tr>\n",
       "    <tr>\n",
       "      <th>6433<\/th>\n",
       "      <td>45<\/td>\n",
       "      <td>718125.53<\/td>\n",
       "      <td>0<\/td>\n",
       "      <td>56.47<\/td>\n",
       "      <td>3.969<\/td>\n",
       "      <td>192.330854<\/td>\n",
       "      <td>8.667<\/td>\n",
       "      <td>3<\/td>\n",
       "      <td>10<\/td>\n",
       "      <td>2012<\/td>\n",
       "    <\/tr>\n",
       "    <tr>\n",
       "      <th>6434<\/th>\n",
       "      <td>45<\/td>\n",
       "      <td>760281.43<\/td>\n",
       "      <td>0<\/td>\n",
       "      <td>58.85<\/td>\n",
       "      <td>3.882<\/td>\n",
       "      <td>192.308899<\/td>\n",
       "      <td>8.667<\/td>\n",
       "      <td>4<\/td>\n",
       "      <td>10<\/td>\n",
       "      <td>2012<\/td>\n",
       "    <\/tr>\n",
       "  <\/tbody>\n",
       "<\/table>\n",
       "<p>6435 rows × 10 columns<\/p>\n",
       "<\/div>"
      ]
     },
     "metadata":{
      
     },
     "output_type":"display_data"
    }
   ],
   "metadata":{
    "datalore":{
     "node_id":"XduV2w0M5PeCUrSA25FkcP",
     "type":"CODE",
     "hide_input_from_viewers":true,
     "hide_output_from_viewers":true
    }
   }
  },
  {
   "cell_type":"markdown",
   "source":[
    "## Общая информация"
   ],
   "attachments":{
    
   },
   "metadata":{
    "datalore":{
     "node_id":"jSHEh4ZB5pVRDMRYAxfNXZ",
     "type":"MD",
     "hide_input_from_viewers":true,
     "hide_output_from_viewers":true
    }
   }
  },
  {
   "cell_type":"code",
   "source":[
    "df.info()"
   ],
   "execution_count":174,
   "outputs":[
    {
     "name":"stdout",
     "text":[
      "<class 'pandas.core.frame.DataFrame'>\n",
      "RangeIndex: 6435 entries, 0 to 6434\n",
      "Data columns (total 10 columns):\n",
      " #   Column        Non-Null Count  Dtype  \n",
      "---  ------        --------------  -----  \n",
      " 0   Store         6435 non-null   int64  \n",
      " 1   Weekly_Sales  6435 non-null   float64\n",
      " 2   Holiday_Flag  6435 non-null   int64  \n",
      " 3   Temperature   6435 non-null   float64\n",
      " 4   Fuel_Price    6435 non-null   float64\n",
      " 5   CPI           6435 non-null   float64\n",
      " 6   Unemployment  6435 non-null   float64\n",
      " 7   Week          6435 non-null   int64  \n",
      " 8   Month         6435 non-null   int64  \n",
      " 9   Year          6435 non-null   int64  \n",
      "dtypes: float64(5), int64(5)\n",
      "memory usage: 502.9 KB\n"
     ],
     "output_type":"stream"
    }
   ],
   "metadata":{
    "datalore":{
     "node_id":"WKsljmUyllKAALhIyKehtE",
     "type":"CODE",
     "hide_input_from_viewers":true,
     "hide_output_from_viewers":true
    }
   }
  },
  {
   "cell_type":"markdown",
   "source":[
    "Пропущенных значений нет "
   ],
   "attachments":{
    
   },
   "metadata":{
    "datalore":{
     "node_id":"WHVpjqJ7Lz88MDQPcpOGZ9",
     "type":"MD",
     "hide_input_from_viewers":true,
     "hide_output_from_viewers":true
    }
   }
  },
  {
   "cell_type":"code",
   "source":[
    "df.describe()"
   ],
   "execution_count":175,
   "outputs":[
    {
     "data":{
      "text\/html":[
       "<div>\n",
       "<style scoped>\n",
       "    .dataframe tbody tr th:only-of-type {\n",
       "        vertical-align: middle;\n",
       "    }\n",
       "\n",
       "    .dataframe tbody tr th {\n",
       "        vertical-align: top;\n",
       "    }\n",
       "\n",
       "    .dataframe thead th {\n",
       "        text-align: right;\n",
       "    }\n",
       "<\/style>\n",
       "<table border=\"1\" class=\"dataframe\">\n",
       "  <thead>\n",
       "    <tr style=\"text-align: right;\">\n",
       "      <th><\/th>\n",
       "      <th>Store<\/th>\n",
       "      <th>Weekly_Sales<\/th>\n",
       "      <th>Holiday_Flag<\/th>\n",
       "      <th>Temperature<\/th>\n",
       "      <th>Fuel_Price<\/th>\n",
       "      <th>CPI<\/th>\n",
       "      <th>Unemployment<\/th>\n",
       "      <th>Week<\/th>\n",
       "      <th>Month<\/th>\n",
       "      <th>Year<\/th>\n",
       "    <\/tr>\n",
       "  <\/thead>\n",
       "  <tbody>\n",
       "    <tr>\n",
       "      <th>count<\/th>\n",
       "      <td>6435.000000<\/td>\n",
       "      <td>6.435000e+03<\/td>\n",
       "      <td>6435.000000<\/td>\n",
       "      <td>6435.000000<\/td>\n",
       "      <td>6435.000000<\/td>\n",
       "      <td>6435.000000<\/td>\n",
       "      <td>6435.000000<\/td>\n",
       "      <td>6435.000000<\/td>\n",
       "      <td>6435.000000<\/td>\n",
       "      <td>6435.000000<\/td>\n",
       "    <\/tr>\n",
       "    <tr>\n",
       "      <th>mean<\/th>\n",
       "      <td>23.000000<\/td>\n",
       "      <td>1.046965e+06<\/td>\n",
       "      <td>0.069930<\/td>\n",
       "      <td>60.663782<\/td>\n",
       "      <td>3.358607<\/td>\n",
       "      <td>171.578394<\/td>\n",
       "      <td>7.999151<\/td>\n",
       "      <td>2.692308<\/td>\n",
       "      <td>6.447552<\/td>\n",
       "      <td>2010.965035<\/td>\n",
       "    <\/tr>\n",
       "    <tr>\n",
       "      <th>std<\/th>\n",
       "      <td>12.988182<\/td>\n",
       "      <td>5.643666e+05<\/td>\n",
       "      <td>0.255049<\/td>\n",
       "      <td>18.444933<\/td>\n",
       "      <td>0.459020<\/td>\n",
       "      <td>39.356712<\/td>\n",
       "      <td>1.875885<\/td>\n",
       "      <td>1.264073<\/td>\n",
       "      <td>3.238308<\/td>\n",
       "      <td>0.797019<\/td>\n",
       "    <\/tr>\n",
       "    <tr>\n",
       "      <th>min<\/th>\n",
       "      <td>1.000000<\/td>\n",
       "      <td>2.099862e+05<\/td>\n",
       "      <td>0.000000<\/td>\n",
       "      <td>-2.060000<\/td>\n",
       "      <td>2.472000<\/td>\n",
       "      <td>126.064000<\/td>\n",
       "      <td>3.879000<\/td>\n",
       "      <td>1.000000<\/td>\n",
       "      <td>1.000000<\/td>\n",
       "      <td>2010.000000<\/td>\n",
       "    <\/tr>\n",
       "    <tr>\n",
       "      <th>25%<\/th>\n",
       "      <td>12.000000<\/td>\n",
       "      <td>5.533501e+05<\/td>\n",
       "      <td>0.000000<\/td>\n",
       "      <td>47.460000<\/td>\n",
       "      <td>2.933000<\/td>\n",
       "      <td>131.735000<\/td>\n",
       "      <td>6.891000<\/td>\n",
       "      <td>2.000000<\/td>\n",
       "      <td>4.000000<\/td>\n",
       "      <td>2010.000000<\/td>\n",
       "    <\/tr>\n",
       "    <tr>\n",
       "      <th>50%<\/th>\n",
       "      <td>23.000000<\/td>\n",
       "      <td>9.607460e+05<\/td>\n",
       "      <td>0.000000<\/td>\n",
       "      <td>62.670000<\/td>\n",
       "      <td>3.445000<\/td>\n",
       "      <td>182.616521<\/td>\n",
       "      <td>7.874000<\/td>\n",
       "      <td>3.000000<\/td>\n",
       "      <td>6.000000<\/td>\n",
       "      <td>2011.000000<\/td>\n",
       "    <\/tr>\n",
       "    <tr>\n",
       "      <th>75%<\/th>\n",
       "      <td>34.000000<\/td>\n",
       "      <td>1.420159e+06<\/td>\n",
       "      <td>0.000000<\/td>\n",
       "      <td>74.940000<\/td>\n",
       "      <td>3.735000<\/td>\n",
       "      <td>212.743293<\/td>\n",
       "      <td>8.622000<\/td>\n",
       "      <td>4.000000<\/td>\n",
       "      <td>9.000000<\/td>\n",
       "      <td>2012.000000<\/td>\n",
       "    <\/tr>\n",
       "    <tr>\n",
       "      <th>max<\/th>\n",
       "      <td>45.000000<\/td>\n",
       "      <td>3.818686e+06<\/td>\n",
       "      <td>1.000000<\/td>\n",
       "      <td>100.140000<\/td>\n",
       "      <td>4.468000<\/td>\n",
       "      <td>227.232807<\/td>\n",
       "      <td>14.313000<\/td>\n",
       "      <td>5.000000<\/td>\n",
       "      <td>12.000000<\/td>\n",
       "      <td>2012.000000<\/td>\n",
       "    <\/tr>\n",
       "  <\/tbody>\n",
       "<\/table>\n",
       "<\/div>"
      ]
     },
     "metadata":{
      
     },
     "output_type":"display_data"
    }
   ],
   "metadata":{
    "datalore":{
     "node_id":"iXkkbuhb0Dbh7T97UGbCal",
     "type":"CODE",
     "hide_input_from_viewers":true,
     "hide_output_from_viewers":true
    }
   }
  },
  {
   "cell_type":"markdown",
   "source":[
    "Отдельно хочется сказать, что у `Weekly_Sales` максимум почти в 4 раза больше, чем среднее значение и медиана, нужно будет аккуратнее посмотреть на выбросы"
   ],
   "attachments":{
    
   },
   "metadata":{
    "datalore":{
     "node_id":"zXyC3l2Nk3A8qaqBkFmzHV",
     "type":"MD",
     "hide_input_from_viewers":true,
     "hide_output_from_viewers":true
    }
   }
  },
  {
   "cell_type":"markdown",
   "source":[
    "## Распределения значений признаков"
   ],
   "attachments":{
    
   },
   "metadata":{
    "datalore":{
     "node_id":"dfLv3e18iPENKng8K92Do5",
     "type":"MD",
     "hide_input_from_viewers":true,
     "hide_output_from_viewers":true
    }
   }
  },
  {
   "cell_type":"code",
   "source":[
    "fig = plt.figure()\n",
    "fig.subplots_adjust(hspace=0.4, wspace=0.4)\n",
    "sns.histplot(df, x='Store', ax=fig.add_subplot(2, 3, 1))\n",
    "sns.histplot(df, x='Holiday_Flag', ax=fig.add_subplot(2, 3, 2))\n",
    "sns.histplot(df, x='Temperature', ax=fig.add_subplot(2, 3, 3))\n",
    "sns.histplot(df, x='Fuel_Price', ax=fig.add_subplot(2, 3, 4))\n",
    "sns.histplot(df, x='CPI', ax=fig.add_subplot(2, 3, 5))\n",
    "sns.histplot(df, x='Unemployment', ax=fig.add_subplot(2, 3, 6))\n",
    "plt.show()"
   ],
   "execution_count":176,
   "outputs":[
    {
     "data":{
      "image\/png":"[encoded data removed]"
     },
     "metadata":{
      "image\/png":{
       
      }
     },
     "output_type":"display_data"
    }
   ],
   "metadata":{
    "datalore":{
     "node_id":"ffVIi3lYHZxI9UCUae1x7M",
     "type":"CODE",
     "hide_input_from_viewers":true,
     "hide_output_from_viewers":true
    }
   }
  },
  {
   "cell_type":"markdown",
   "source":[
    "* В целом, выбросов нет\n",
    "* Интересно, как CPI разбивается на пару участков\n",
    "* Также интересно, что у магазинов есть два уровня сбора данных, с одних собирали меньше, с других больше, причем номер магазина это показывает. Может быть, собирались данные с крупного магазина в регионе \/ с более мелких магазинов, и так для каждого региона ¯\\\\_(ツ)\\_\/¯"
   ],
   "attachments":{
    
   },
   "metadata":{
    "datalore":{
     "node_id":"MYvddDCVoOPtx76iQwPZlw",
     "type":"MD",
     "hide_input_from_viewers":true,
     "hide_output_from_viewers":true
    }
   }
  },
  {
   "cell_type":"markdown",
   "source":[
    "### О Weekly Sales"
   ],
   "attachments":{
    
   },
   "metadata":{
    "datalore":{
     "node_id":"LBskouuOvmaP5ZGEOs6EuI",
     "type":"MD",
     "hide_input_from_viewers":true,
     "hide_output_from_viewers":true
    }
   }
  },
  {
   "cell_type":"code",
   "source":[
    "sns.boxplot(df, x='Weekly_Sales', hue='Holiday_Flag');"
   ],
   "execution_count":177,
   "outputs":[
    {
     "data":{
      "image\/png":"[encoded data removed]"
     },
     "metadata":{
      "image\/png":{
       
      }
     },
     "output_type":"display_data"
    }
   ],
   "metadata":{
    "datalore":{
     "node_id":"EwwQRp22Je2zTzrOuCLc3r",
     "type":"CODE",
     "hide_input_from_viewers":true,
     "hide_output_from_viewers":true
    }
   }
  },
  {
   "cell_type":"markdown",
   "source":[
    "* Кажется, что выбросы есть 🤔\n",
    "* Посмотрим на них внимательнее"
   ],
   "attachments":{
    
   },
   "metadata":{
    "datalore":{
     "node_id":"mo69izBeTdoda7PFGFHQBM",
     "type":"MD",
     "hide_input_from_viewers":true,
     "hide_output_from_viewers":true
    }
   }
  },
  {
   "cell_type":"code",
   "source":[
    "df[(df['Weekly_Sales'] > 2.5e6)]"
   ],
   "execution_count":178,
   "outputs":[
    {
     "data":{
      "text\/html":[
       "<div>\n",
       "<style scoped>\n",
       "    .dataframe tbody tr th:only-of-type {\n",
       "        vertical-align: middle;\n",
       "    }\n",
       "\n",
       "    .dataframe tbody tr th {\n",
       "        vertical-align: top;\n",
       "    }\n",
       "\n",
       "    .dataframe thead th {\n",
       "        text-align: right;\n",
       "    }\n",
       "<\/style>\n",
       "<table border=\"1\" class=\"dataframe\">\n",
       "  <thead>\n",
       "    <tr style=\"text-align: right;\">\n",
       "      <th><\/th>\n",
       "      <th>Store<\/th>\n",
       "      <th>Weekly_Sales<\/th>\n",
       "      <th>Holiday_Flag<\/th>\n",
       "      <th>Temperature<\/th>\n",
       "      <th>Fuel_Price<\/th>\n",
       "      <th>CPI<\/th>\n",
       "      <th>Unemployment<\/th>\n",
       "      <th>Week<\/th>\n",
       "      <th>Month<\/th>\n",
       "      <th>Year<\/th>\n",
       "    <\/tr>\n",
       "  <\/thead>\n",
       "  <tbody>\n",
       "    <tr>\n",
       "      <th>185<\/th>\n",
       "      <td>2<\/td>\n",
       "      <td>2658725.29<\/td>\n",
       "      <td>1<\/td>\n",
       "      <td>62.98<\/td>\n",
       "      <td>2.735<\/td>\n",
       "      <td>211.406287<\/td>\n",
       "      <td>8.163<\/td>\n",
       "      <td>4<\/td>\n",
       "      <td>11<\/td>\n",
       "      <td>2010<\/td>\n",
       "    <\/tr>\n",
       "    <tr>\n",
       "      <th>188<\/th>\n",
       "      <td>2<\/td>\n",
       "      <td>2609166.75<\/td>\n",
       "      <td>0<\/td>\n",
       "      <td>47.55<\/td>\n",
       "      <td>2.869<\/td>\n",
       "      <td>211.064546<\/td>\n",
       "      <td>8.163<\/td>\n",
       "      <td>3<\/td>\n",
       "      <td>12<\/td>\n",
       "      <td>2010<\/td>\n",
       "    <\/tr>\n",
       "    <tr>\n",
       "      <th>189<\/th>\n",
       "      <td>2<\/td>\n",
       "      <td>3436007.68<\/td>\n",
       "      <td>0<\/td>\n",
       "      <td>49.97<\/td>\n",
       "      <td>2.886<\/td>\n",
       "      <td>211.064660<\/td>\n",
       "      <td>8.163<\/td>\n",
       "      <td>4<\/td>\n",
       "      <td>12<\/td>\n",
       "      <td>2010<\/td>\n",
       "    <\/tr>\n",
       "    <tr>\n",
       "      <th>237<\/th>\n",
       "      <td>2<\/td>\n",
       "      <td>2614202.30<\/td>\n",
       "      <td>1<\/td>\n",
       "      <td>56.36<\/td>\n",
       "      <td>3.236<\/td>\n",
       "      <td>218.113027<\/td>\n",
       "      <td>7.441<\/td>\n",
       "      <td>4<\/td>\n",
       "      <td>11<\/td>\n",
       "      <td>2011<\/td>\n",
       "    <\/tr>\n",
       "    <tr>\n",
       "      <th>241<\/th>\n",
       "      <td>2<\/td>\n",
       "      <td>3224369.80<\/td>\n",
       "      <td>0<\/td>\n",
       "      <td>46.66<\/td>\n",
       "      <td>3.112<\/td>\n",
       "      <td>218.999550<\/td>\n",
       "      <td>7.441<\/td>\n",
       "      <td>4<\/td>\n",
       "      <td>12<\/td>\n",
       "      <td>2011<\/td>\n",
       "    <\/tr>\n",
       "    <tr>\n",
       "      <th>471<\/th>\n",
       "      <td>4<\/td>\n",
       "      <td>2789469.45<\/td>\n",
       "      <td>1<\/td>\n",
       "      <td>48.08<\/td>\n",
       "      <td>2.752<\/td>\n",
       "      <td>126.669267<\/td>\n",
       "      <td>7.127<\/td>\n",
       "      <td>4<\/td>\n",
       "      <td>11<\/td>\n",
       "      <td>2010<\/td>\n",
       "    <\/tr>\n",
       "    <tr>\n",
       "      <th>474<\/th>\n",
       "      <td>4<\/td>\n",
       "      <td>2740057.14<\/td>\n",
       "      <td>0<\/td>\n",
       "      <td>46.57<\/td>\n",
       "      <td>2.884<\/td>\n",
       "      <td>126.879484<\/td>\n",
       "      <td>7.127<\/td>\n",
       "      <td>3<\/td>\n",
       "      <td>12<\/td>\n",
       "      <td>2010<\/td>\n",
       "    <\/tr>\n",
       "    <tr>\n",
       "      <th>475<\/th>\n",
       "      <td>4<\/td>\n",
       "      <td>3526713.39<\/td>\n",
       "      <td>0<\/td>\n",
       "      <td>43.21<\/td>\n",
       "      <td>2.887<\/td>\n",
       "      <td>126.983581<\/td>\n",
       "      <td>7.127<\/td>\n",
       "      <td>4<\/td>\n",
       "      <td>12<\/td>\n",
       "      <td>2010<\/td>\n",
       "    <\/tr>\n",
       "    <tr>\n",
       "      <th>523<\/th>\n",
       "      <td>4<\/td>\n",
       "      <td>3004702.33<\/td>\n",
       "      <td>1<\/td>\n",
       "      <td>47.96<\/td>\n",
       "      <td>3.225<\/td>\n",
       "      <td>129.836400<\/td>\n",
       "      <td>5.143<\/td>\n",
       "      <td>4<\/td>\n",
       "      <td>11<\/td>\n",
       "      <td>2011<\/td>\n",
       "    <\/tr>\n",
       "    <tr>\n",
       "      <th>525<\/th>\n",
       "      <td>4<\/td>\n",
       "      <td>2508955.24<\/td>\n",
       "      <td>0<\/td>\n",
       "      <td>31.64<\/td>\n",
       "      <td>3.153<\/td>\n",
       "      <td>129.855533<\/td>\n",
       "      <td>5.143<\/td>\n",
       "      <td>2<\/td>\n",
       "      <td>12<\/td>\n",
       "      <td>2011<\/td>\n",
       "    <\/tr>\n",
       "    <tr>\n",
       "      <th>526<\/th>\n",
       "      <td>4<\/td>\n",
       "      <td>2771397.17<\/td>\n",
       "      <td>0<\/td>\n",
       "      <td>36.44<\/td>\n",
       "      <td>3.149<\/td>\n",
       "      <td>129.898065<\/td>\n",
       "      <td>5.143<\/td>\n",
       "      <td>3<\/td>\n",
       "      <td>12<\/td>\n",
       "      <td>2011<\/td>\n",
       "    <\/tr>\n",
       "    <tr>\n",
       "      <th>527<\/th>\n",
       "      <td>4<\/td>\n",
       "      <td>3676388.98<\/td>\n",
       "      <td>0<\/td>\n",
       "      <td>35.92<\/td>\n",
       "      <td>3.103<\/td>\n",
       "      <td>129.984548<\/td>\n",
       "      <td>5.143<\/td>\n",
       "      <td>4<\/td>\n",
       "      <td>12<\/td>\n",
       "      <td>2011<\/td>\n",
       "    <\/tr>\n",
       "    <tr>\n",
       "      <th>761<\/th>\n",
       "      <td>6<\/td>\n",
       "      <td>2727575.18<\/td>\n",
       "      <td>0<\/td>\n",
       "      <td>55.07<\/td>\n",
       "      <td>2.886<\/td>\n",
       "      <td>212.916508<\/td>\n",
       "      <td>7.007<\/td>\n",
       "      <td>4<\/td>\n",
       "      <td>12<\/td>\n",
       "      <td>2010<\/td>\n",
       "    <\/tr>\n",
       "    <tr>\n",
       "      <th>813<\/th>\n",
       "      <td>6<\/td>\n",
       "      <td>2644633.02<\/td>\n",
       "      <td>0<\/td>\n",
       "      <td>49.45<\/td>\n",
       "      <td>3.112<\/td>\n",
       "      <td>220.947724<\/td>\n",
       "      <td>6.551<\/td>\n",
       "      <td>4<\/td>\n",
       "      <td>12<\/td>\n",
       "      <td>2011<\/td>\n",
       "    <\/tr>\n",
       "    <tr>\n",
       "      <th>1329<\/th>\n",
       "      <td>10<\/td>\n",
       "      <td>2939946.38<\/td>\n",
       "      <td>1<\/td>\n",
       "      <td>55.33<\/td>\n",
       "      <td>3.162<\/td>\n",
       "      <td>126.669267<\/td>\n",
       "      <td>9.003<\/td>\n",
       "      <td>4<\/td>\n",
       "      <td>11<\/td>\n",
       "      <td>2010<\/td>\n",
       "    <\/tr>\n",
       "    <tr>\n",
       "      <th>1332<\/th>\n",
       "      <td>10<\/td>\n",
       "      <td>2811646.85<\/td>\n",
       "      <td>0<\/td>\n",
       "      <td>59.15<\/td>\n",
       "      <td>3.125<\/td>\n",
       "      <td>126.879484<\/td>\n",
       "      <td>9.003<\/td>\n",
       "      <td>3<\/td>\n",
       "      <td>12<\/td>\n",
       "      <td>2010<\/td>\n",
       "    <\/tr>\n",
       "    <tr>\n",
       "      <th>1333<\/th>\n",
       "      <td>10<\/td>\n",
       "      <td>3749057.69<\/td>\n",
       "      <td>0<\/td>\n",
       "      <td>57.06<\/td>\n",
       "      <td>3.236<\/td>\n",
       "      <td>126.983581<\/td>\n",
       "      <td>9.003<\/td>\n",
       "      <td>4<\/td>\n",
       "      <td>12<\/td>\n",
       "      <td>2010<\/td>\n",
       "    <\/tr>\n",
       "    <tr>\n",
       "      <th>1381<\/th>\n",
       "      <td>10<\/td>\n",
       "      <td>2950198.64<\/td>\n",
       "      <td>1<\/td>\n",
       "      <td>60.68<\/td>\n",
       "      <td>3.760<\/td>\n",
       "      <td>129.836400<\/td>\n",
       "      <td>7.874<\/td>\n",
       "      <td>4<\/td>\n",
       "      <td>11<\/td>\n",
       "      <td>2011<\/td>\n",
       "    <\/tr>\n",
       "    <tr>\n",
       "      <th>1384<\/th>\n",
       "      <td>10<\/td>\n",
       "      <td>2555031.18<\/td>\n",
       "      <td>0<\/td>\n",
       "      <td>50.53<\/td>\n",
       "      <td>3.489<\/td>\n",
       "      <td>129.898065<\/td>\n",
       "      <td>7.874<\/td>\n",
       "      <td>3<\/td>\n",
       "      <td>12<\/td>\n",
       "      <td>2011<\/td>\n",
       "    <\/tr>\n",
       "    <tr>\n",
       "      <th>1385<\/th>\n",
       "      <td>10<\/td>\n",
       "      <td>3487986.89<\/td>\n",
       "      <td>0<\/td>\n",
       "      <td>48.36<\/td>\n",
       "      <td>3.541<\/td>\n",
       "      <td>129.984548<\/td>\n",
       "      <td>7.874<\/td>\n",
       "      <td>4<\/td>\n",
       "      <td>12<\/td>\n",
       "      <td>2011<\/td>\n",
       "    <\/tr>\n",
       "    <tr>\n",
       "      <th>1758<\/th>\n",
       "      <td>13<\/td>\n",
       "      <td>2766400.05<\/td>\n",
       "      <td>1<\/td>\n",
       "      <td>28.22<\/td>\n",
       "      <td>2.830<\/td>\n",
       "      <td>126.669267<\/td>\n",
       "      <td>7.795<\/td>\n",
       "      <td>4<\/td>\n",
       "      <td>11<\/td>\n",
       "      <td>2010<\/td>\n",
       "    <\/tr>\n",
       "    <tr>\n",
       "      <th>1761<\/th>\n",
       "      <td>13<\/td>\n",
       "      <td>2771646.81<\/td>\n",
       "      <td>0<\/td>\n",
       "      <td>35.21<\/td>\n",
       "      <td>2.842<\/td>\n",
       "      <td>126.879484<\/td>\n",
       "      <td>7.795<\/td>\n",
       "      <td>3<\/td>\n",
       "      <td>12<\/td>\n",
       "      <td>2010<\/td>\n",
       "    <\/tr>\n",
       "    <tr>\n",
       "      <th>1762<\/th>\n",
       "      <td>13<\/td>\n",
       "      <td>3595903.20<\/td>\n",
       "      <td>0<\/td>\n",
       "      <td>34.90<\/td>\n",
       "      <td>2.846<\/td>\n",
       "      <td>126.983581<\/td>\n",
       "      <td>7.795<\/td>\n",
       "      <td>4<\/td>\n",
       "      <td>12<\/td>\n",
       "      <td>2010<\/td>\n",
       "    <\/tr>\n",
       "    <tr>\n",
       "      <th>1810<\/th>\n",
       "      <td>13<\/td>\n",
       "      <td>2864170.61<\/td>\n",
       "      <td>1<\/td>\n",
       "      <td>38.89<\/td>\n",
       "      <td>3.445<\/td>\n",
       "      <td>129.836400<\/td>\n",
       "      <td>6.392<\/td>\n",
       "      <td>4<\/td>\n",
       "      <td>11<\/td>\n",
       "      <td>2011<\/td>\n",
       "    <\/tr>\n",
       "    <tr>\n",
       "      <th>1813<\/th>\n",
       "      <td>13<\/td>\n",
       "      <td>2760346.71<\/td>\n",
       "      <td>0<\/td>\n",
       "      <td>27.85<\/td>\n",
       "      <td>3.282<\/td>\n",
       "      <td>129.898065<\/td>\n",
       "      <td>6.392<\/td>\n",
       "      <td>3<\/td>\n",
       "      <td>12<\/td>\n",
       "      <td>2011<\/td>\n",
       "    <\/tr>\n",
       "    <tr>\n",
       "      <th>1814<\/th>\n",
       "      <td>13<\/td>\n",
       "      <td>3556766.03<\/td>\n",
       "      <td>0<\/td>\n",
       "      <td>24.76<\/td>\n",
       "      <td>3.186<\/td>\n",
       "      <td>129.984548<\/td>\n",
       "      <td>6.392<\/td>\n",
       "      <td>4<\/td>\n",
       "      <td>12<\/td>\n",
       "      <td>2011<\/td>\n",
       "    <\/tr>\n",
       "    <tr>\n",
       "      <th>1859<\/th>\n",
       "      <td>14<\/td>\n",
       "      <td>2623469.95<\/td>\n",
       "      <td>0<\/td>\n",
       "      <td>27.31<\/td>\n",
       "      <td>2.784<\/td>\n",
       "      <td>181.871190<\/td>\n",
       "      <td>8.992<\/td>\n",
       "      <td>1<\/td>\n",
       "      <td>2<\/td>\n",
       "      <td>2010<\/td>\n",
       "    <\/tr>\n",
       "    <tr>\n",
       "      <th>1901<\/th>\n",
       "      <td>14<\/td>\n",
       "      <td>2921709.71<\/td>\n",
       "      <td>1<\/td>\n",
       "      <td>46.15<\/td>\n",
       "      <td>3.039<\/td>\n",
       "      <td>182.783277<\/td>\n",
       "      <td>8.724<\/td>\n",
       "      <td>4<\/td>\n",
       "      <td>11<\/td>\n",
       "      <td>2010<\/td>\n",
       "    <\/tr>\n",
       "    <tr>\n",
       "      <th>1903<\/th>\n",
       "      <td>14<\/td>\n",
       "      <td>2600519.26<\/td>\n",
       "      <td>0<\/td>\n",
       "      <td>30.54<\/td>\n",
       "      <td>3.109<\/td>\n",
       "      <td>182.551954<\/td>\n",
       "      <td>8.724<\/td>\n",
       "      <td>2<\/td>\n",
       "      <td>12<\/td>\n",
       "      <td>2010<\/td>\n",
       "    <\/tr>\n",
       "    <tr>\n",
       "      <th>1904<\/th>\n",
       "      <td>14<\/td>\n",
       "      <td>2762861.41<\/td>\n",
       "      <td>0<\/td>\n",
       "      <td>30.51<\/td>\n",
       "      <td>3.140<\/td>\n",
       "      <td>182.517732<\/td>\n",
       "      <td>8.724<\/td>\n",
       "      <td>3<\/td>\n",
       "      <td>12<\/td>\n",
       "      <td>2010<\/td>\n",
       "    <\/tr>\n",
       "    <tr>\n",
       "      <th>1905<\/th>\n",
       "      <td>14<\/td>\n",
       "      <td>3818686.45<\/td>\n",
       "      <td>0<\/td>\n",
       "      <td>30.59<\/td>\n",
       "      <td>3.141<\/td>\n",
       "      <td>182.544590<\/td>\n",
       "      <td>8.724<\/td>\n",
       "      <td>4<\/td>\n",
       "      <td>12<\/td>\n",
       "      <td>2010<\/td>\n",
       "    <\/tr>\n",
       "    <tr>\n",
       "      <th>1953<\/th>\n",
       "      <td>14<\/td>\n",
       "      <td>2685351.81<\/td>\n",
       "      <td>1<\/td>\n",
       "      <td>48.71<\/td>\n",
       "      <td>3.492<\/td>\n",
       "      <td>188.350400<\/td>\n",
       "      <td>8.523<\/td>\n",
       "      <td>4<\/td>\n",
       "      <td>11<\/td>\n",
       "      <td>2011<\/td>\n",
       "    <\/tr>\n",
       "    <tr>\n",
       "      <th>1956<\/th>\n",
       "      <td>14<\/td>\n",
       "      <td>2594363.09<\/td>\n",
       "      <td>0<\/td>\n",
       "      <td>39.93<\/td>\n",
       "      <td>3.413<\/td>\n",
       "      <td>188.797935<\/td>\n",
       "      <td>8.523<\/td>\n",
       "      <td>3<\/td>\n",
       "      <td>12<\/td>\n",
       "      <td>2011<\/td>\n",
       "    <\/tr>\n",
       "    <tr>\n",
       "      <th>1957<\/th>\n",
       "      <td>14<\/td>\n",
       "      <td>3369068.99<\/td>\n",
       "      <td>0<\/td>\n",
       "      <td>42.27<\/td>\n",
       "      <td>3.389<\/td>\n",
       "      <td>188.929975<\/td>\n",
       "      <td>8.523<\/td>\n",
       "      <td>4<\/td>\n",
       "      <td>12<\/td>\n",
       "      <td>2011<\/td>\n",
       "    <\/tr>\n",
       "    <tr>\n",
       "      <th>2620<\/th>\n",
       "      <td>19<\/td>\n",
       "      <td>2678206.42<\/td>\n",
       "      <td>0<\/td>\n",
       "      <td>26.05<\/td>\n",
       "      <td>3.309<\/td>\n",
       "      <td>132.747742<\/td>\n",
       "      <td>8.067<\/td>\n",
       "      <td>4<\/td>\n",
       "      <td>12<\/td>\n",
       "      <td>2010<\/td>\n",
       "    <\/tr>\n",
       "    <tr>\n",
       "      <th>2759<\/th>\n",
       "      <td>20<\/td>\n",
       "      <td>2811634.04<\/td>\n",
       "      <td>1<\/td>\n",
       "      <td>46.66<\/td>\n",
       "      <td>3.039<\/td>\n",
       "      <td>204.962100<\/td>\n",
       "      <td>7.484<\/td>\n",
       "      <td>4<\/td>\n",
       "      <td>11<\/td>\n",
       "      <td>2010<\/td>\n",
       "    <\/tr>\n",
       "    <tr>\n",
       "      <th>2761<\/th>\n",
       "      <td>20<\/td>\n",
       "      <td>2752122.08<\/td>\n",
       "      <td>0<\/td>\n",
       "      <td>24.27<\/td>\n",
       "      <td>3.109<\/td>\n",
       "      <td>204.687738<\/td>\n",
       "      <td>7.484<\/td>\n",
       "      <td>2<\/td>\n",
       "      <td>12<\/td>\n",
       "      <td>2010<\/td>\n",
       "    <\/tr>\n",
       "    <tr>\n",
       "      <th>2762<\/th>\n",
       "      <td>20<\/td>\n",
       "      <td>2819193.17<\/td>\n",
       "      <td>0<\/td>\n",
       "      <td>24.07<\/td>\n",
       "      <td>3.140<\/td>\n",
       "      <td>204.632119<\/td>\n",
       "      <td>7.484<\/td>\n",
       "      <td>3<\/td>\n",
       "      <td>12<\/td>\n",
       "      <td>2010<\/td>\n",
       "    <\/tr>\n",
       "    <tr>\n",
       "      <th>2763<\/th>\n",
       "      <td>20<\/td>\n",
       "      <td>3766687.43<\/td>\n",
       "      <td>0<\/td>\n",
       "      <td>25.17<\/td>\n",
       "      <td>3.141<\/td>\n",
       "      <td>204.637673<\/td>\n",
       "      <td>7.484<\/td>\n",
       "      <td>4<\/td>\n",
       "      <td>12<\/td>\n",
       "      <td>2010<\/td>\n",
       "    <\/tr>\n",
       "    <tr>\n",
       "      <th>2811<\/th>\n",
       "      <td>20<\/td>\n",
       "      <td>2906233.25<\/td>\n",
       "      <td>1<\/td>\n",
       "      <td>46.38<\/td>\n",
       "      <td>3.492<\/td>\n",
       "      <td>211.412076<\/td>\n",
       "      <td>7.082<\/td>\n",
       "      <td>4<\/td>\n",
       "      <td>11<\/td>\n",
       "      <td>2011<\/td>\n",
       "    <\/tr>\n",
       "    <tr>\n",
       "      <th>2813<\/th>\n",
       "      <td>20<\/td>\n",
       "      <td>2546123.78<\/td>\n",
       "      <td>0<\/td>\n",
       "      <td>41.64<\/td>\n",
       "      <td>3.415<\/td>\n",
       "      <td>211.866786<\/td>\n",
       "      <td>7.082<\/td>\n",
       "      <td>2<\/td>\n",
       "      <td>12<\/td>\n",
       "      <td>2011<\/td>\n",
       "    <\/tr>\n",
       "    <tr>\n",
       "      <th>2814<\/th>\n",
       "      <td>20<\/td>\n",
       "      <td>2762816.65<\/td>\n",
       "      <td>0<\/td>\n",
       "      <td>37.16<\/td>\n",
       "      <td>3.413<\/td>\n",
       "      <td>212.068504<\/td>\n",
       "      <td>7.082<\/td>\n",
       "      <td>3<\/td>\n",
       "      <td>12<\/td>\n",
       "      <td>2011<\/td>\n",
       "    <\/tr>\n",
       "    <tr>\n",
       "      <th>2815<\/th>\n",
       "      <td>20<\/td>\n",
       "      <td>3555371.03<\/td>\n",
       "      <td>0<\/td>\n",
       "      <td>40.19<\/td>\n",
       "      <td>3.389<\/td>\n",
       "      <td>212.236040<\/td>\n",
       "      <td>7.082<\/td>\n",
       "      <td>4<\/td>\n",
       "      <td>12<\/td>\n",
       "      <td>2011<\/td>\n",
       "    <\/tr>\n",
       "    <tr>\n",
       "      <th>2830<\/th>\n",
       "      <td>20<\/td>\n",
       "      <td>2565259.92<\/td>\n",
       "      <td>0<\/td>\n",
       "      <td>50.06<\/td>\n",
       "      <td>3.996<\/td>\n",
       "      <td>214.238705<\/td>\n",
       "      <td>7.139<\/td>\n",
       "      <td>1<\/td>\n",
       "      <td>4<\/td>\n",
       "      <td>2012<\/td>\n",
       "    <\/tr>\n",
       "    <tr>\n",
       "      <th>3192<\/th>\n",
       "      <td>23<\/td>\n",
       "      <td>2734277.10<\/td>\n",
       "      <td>0<\/td>\n",
       "      <td>22.96<\/td>\n",
       "      <td>3.150<\/td>\n",
       "      <td>132.747742<\/td>\n",
       "      <td>5.287<\/td>\n",
       "      <td>4<\/td>\n",
       "      <td>12<\/td>\n",
       "      <td>2010<\/td>\n",
       "    <\/tr>\n",
       "    <tr>\n",
       "      <th>3244<\/th>\n",
       "      <td>23<\/td>\n",
       "      <td>2587953.32<\/td>\n",
       "      <td>0<\/td>\n",
       "      <td>27.80<\/td>\n",
       "      <td>3.413<\/td>\n",
       "      <td>136.588387<\/td>\n",
       "      <td>4.420<\/td>\n",
       "      <td>4<\/td>\n",
       "      <td>12<\/td>\n",
       "      <td>2011<\/td>\n",
       "    <\/tr>\n",
       "    <tr>\n",
       "      <th>3760<\/th>\n",
       "      <td>27<\/td>\n",
       "      <td>2627910.75<\/td>\n",
       "      <td>1<\/td>\n",
       "      <td>46.67<\/td>\n",
       "      <td>3.186<\/td>\n",
       "      <td>136.689571<\/td>\n",
       "      <td>8.021<\/td>\n",
       "      <td>4<\/td>\n",
       "      <td>11<\/td>\n",
       "      <td>2010<\/td>\n",
       "    <\/tr>\n",
       "    <tr>\n",
       "      <th>3764<\/th>\n",
       "      <td>27<\/td>\n",
       "      <td>3078162.08<\/td>\n",
       "      <td>0<\/td>\n",
       "      <td>31.34<\/td>\n",
       "      <td>3.309<\/td>\n",
       "      <td>136.597273<\/td>\n",
       "      <td>8.021<\/td>\n",
       "      <td>4<\/td>\n",
       "      <td>12<\/td>\n",
       "      <td>2010<\/td>\n",
       "    <\/tr>\n",
       "    <tr>\n",
       "      <th>3812<\/th>\n",
       "      <td>27<\/td>\n",
       "      <td>2504400.71<\/td>\n",
       "      <td>1<\/td>\n",
       "      <td>47.88<\/td>\n",
       "      <td>3.689<\/td>\n",
       "      <td>140.421786<\/td>\n",
       "      <td>7.906<\/td>\n",
       "      <td>4<\/td>\n",
       "      <td>11<\/td>\n",
       "      <td>2011<\/td>\n",
       "    <\/tr>\n",
       "    <tr>\n",
       "      <th>3816<\/th>\n",
       "      <td>27<\/td>\n",
       "      <td>2739019.75<\/td>\n",
       "      <td>0<\/td>\n",
       "      <td>41.59<\/td>\n",
       "      <td>3.587<\/td>\n",
       "      <td>140.528765<\/td>\n",
       "      <td>7.906<\/td>\n",
       "      <td>4<\/td>\n",
       "      <td>12<\/td>\n",
       "      <td>2011<\/td>\n",
       "    <\/tr>\n",
       "    <tr>\n",
       "      <th>5532<\/th>\n",
       "      <td>39<\/td>\n",
       "      <td>2554482.84<\/td>\n",
       "      <td>0<\/td>\n",
       "      <td>54.62<\/td>\n",
       "      <td>3.112<\/td>\n",
       "      <td>218.054185<\/td>\n",
       "      <td>7.716<\/td>\n",
       "      <td>4<\/td>\n",
       "      <td>12<\/td>\n",
       "      <td>2011<\/td>\n",
       "    <\/tr>\n",
       "  <\/tbody>\n",
       "<\/table>\n",
       "<\/div>"
      ]
     },
     "metadata":{
      
     },
     "output_type":"display_data"
    }
   ],
   "metadata":{
    "datalore":{
     "node_id":"yOHY4hWtA9egvOa4ysV1SM",
     "type":"CODE",
     "hide_input_from_viewers":true,
     "hide_output_from_viewers":true
    }
   }
  },
  {
   "cell_type":"markdown",
   "source":[
    "В целом ожидаемо, почти все -- конец декабря, ноября (Новый Год, Рождество, День Благодарения, черная пятница), проверим это точнее"
   ],
   "attachments":{
    
   },
   "metadata":{
    "datalore":{
     "node_id":"cSYPUUm9IOlfyxw0BeKOGK",
     "type":"MD",
     "hide_input_from_viewers":true,
     "hide_output_from_viewers":true
    }
   }
  },
  {
   "cell_type":"code",
   "source":[
    "df[(df['Weekly_Sales'] > 2.5e6) & (df['Month'] == 12)]"
   ],
   "execution_count":179,
   "outputs":[
    {
     "data":{
      "text\/html":[
       "<div>\n",
       "<style scoped>\n",
       "    .dataframe tbody tr th:only-of-type {\n",
       "        vertical-align: middle;\n",
       "    }\n",
       "\n",
       "    .dataframe tbody tr th {\n",
       "        vertical-align: top;\n",
       "    }\n",
       "\n",
       "    .dataframe thead th {\n",
       "        text-align: right;\n",
       "    }\n",
       "<\/style>\n",
       "<table border=\"1\" class=\"dataframe\">\n",
       "  <thead>\n",
       "    <tr style=\"text-align: right;\">\n",
       "      <th><\/th>\n",
       "      <th>Store<\/th>\n",
       "      <th>Weekly_Sales<\/th>\n",
       "      <th>Holiday_Flag<\/th>\n",
       "      <th>Temperature<\/th>\n",
       "      <th>Fuel_Price<\/th>\n",
       "      <th>CPI<\/th>\n",
       "      <th>Unemployment<\/th>\n",
       "      <th>Week<\/th>\n",
       "      <th>Month<\/th>\n",
       "      <th>Year<\/th>\n",
       "    <\/tr>\n",
       "  <\/thead>\n",
       "  <tbody>\n",
       "    <tr>\n",
       "      <th>188<\/th>\n",
       "      <td>2<\/td>\n",
       "      <td>2609166.75<\/td>\n",
       "      <td>0<\/td>\n",
       "      <td>47.55<\/td>\n",
       "      <td>2.869<\/td>\n",
       "      <td>211.064546<\/td>\n",
       "      <td>8.163<\/td>\n",
       "      <td>3<\/td>\n",
       "      <td>12<\/td>\n",
       "      <td>2010<\/td>\n",
       "    <\/tr>\n",
       "    <tr>\n",
       "      <th>189<\/th>\n",
       "      <td>2<\/td>\n",
       "      <td>3436007.68<\/td>\n",
       "      <td>0<\/td>\n",
       "      <td>49.97<\/td>\n",
       "      <td>2.886<\/td>\n",
       "      <td>211.064660<\/td>\n",
       "      <td>8.163<\/td>\n",
       "      <td>4<\/td>\n",
       "      <td>12<\/td>\n",
       "      <td>2010<\/td>\n",
       "    <\/tr>\n",
       "    <tr>\n",
       "      <th>241<\/th>\n",
       "      <td>2<\/td>\n",
       "      <td>3224369.80<\/td>\n",
       "      <td>0<\/td>\n",
       "      <td>46.66<\/td>\n",
       "      <td>3.112<\/td>\n",
       "      <td>218.999550<\/td>\n",
       "      <td>7.441<\/td>\n",
       "      <td>4<\/td>\n",
       "      <td>12<\/td>\n",
       "      <td>2011<\/td>\n",
       "    <\/tr>\n",
       "    <tr>\n",
       "      <th>474<\/th>\n",
       "      <td>4<\/td>\n",
       "      <td>2740057.14<\/td>\n",
       "      <td>0<\/td>\n",
       "      <td>46.57<\/td>\n",
       "      <td>2.884<\/td>\n",
       "      <td>126.879484<\/td>\n",
       "      <td>7.127<\/td>\n",
       "      <td>3<\/td>\n",
       "      <td>12<\/td>\n",
       "      <td>2010<\/td>\n",
       "    <\/tr>\n",
       "    <tr>\n",
       "      <th>475<\/th>\n",
       "      <td>4<\/td>\n",
       "      <td>3526713.39<\/td>\n",
       "      <td>0<\/td>\n",
       "      <td>43.21<\/td>\n",
       "      <td>2.887<\/td>\n",
       "      <td>126.983581<\/td>\n",
       "      <td>7.127<\/td>\n",
       "      <td>4<\/td>\n",
       "      <td>12<\/td>\n",
       "      <td>2010<\/td>\n",
       "    <\/tr>\n",
       "    <tr>\n",
       "      <th>525<\/th>\n",
       "      <td>4<\/td>\n",
       "      <td>2508955.24<\/td>\n",
       "      <td>0<\/td>\n",
       "      <td>31.64<\/td>\n",
       "      <td>3.153<\/td>\n",
       "      <td>129.855533<\/td>\n",
       "      <td>5.143<\/td>\n",
       "      <td>2<\/td>\n",
       "      <td>12<\/td>\n",
       "      <td>2011<\/td>\n",
       "    <\/tr>\n",
       "    <tr>\n",
       "      <th>526<\/th>\n",
       "      <td>4<\/td>\n",
       "      <td>2771397.17<\/td>\n",
       "      <td>0<\/td>\n",
       "      <td>36.44<\/td>\n",
       "      <td>3.149<\/td>\n",
       "      <td>129.898065<\/td>\n",
       "      <td>5.143<\/td>\n",
       "      <td>3<\/td>\n",
       "      <td>12<\/td>\n",
       "      <td>2011<\/td>\n",
       "    <\/tr>\n",
       "    <tr>\n",
       "      <th>527<\/th>\n",
       "      <td>4<\/td>\n",
       "      <td>3676388.98<\/td>\n",
       "      <td>0<\/td>\n",
       "      <td>35.92<\/td>\n",
       "      <td>3.103<\/td>\n",
       "      <td>129.984548<\/td>\n",
       "      <td>5.143<\/td>\n",
       "      <td>4<\/td>\n",
       "      <td>12<\/td>\n",
       "      <td>2011<\/td>\n",
       "    <\/tr>\n",
       "    <tr>\n",
       "      <th>761<\/th>\n",
       "      <td>6<\/td>\n",
       "      <td>2727575.18<\/td>\n",
       "      <td>0<\/td>\n",
       "      <td>55.07<\/td>\n",
       "      <td>2.886<\/td>\n",
       "      <td>212.916508<\/td>\n",
       "      <td>7.007<\/td>\n",
       "      <td>4<\/td>\n",
       "      <td>12<\/td>\n",
       "      <td>2010<\/td>\n",
       "    <\/tr>\n",
       "    <tr>\n",
       "      <th>813<\/th>\n",
       "      <td>6<\/td>\n",
       "      <td>2644633.02<\/td>\n",
       "      <td>0<\/td>\n",
       "      <td>49.45<\/td>\n",
       "      <td>3.112<\/td>\n",
       "      <td>220.947724<\/td>\n",
       "      <td>6.551<\/td>\n",
       "      <td>4<\/td>\n",
       "      <td>12<\/td>\n",
       "      <td>2011<\/td>\n",
       "    <\/tr>\n",
       "    <tr>\n",
       "      <th>1332<\/th>\n",
       "      <td>10<\/td>\n",
       "      <td>2811646.85<\/td>\n",
       "      <td>0<\/td>\n",
       "      <td>59.15<\/td>\n",
       "      <td>3.125<\/td>\n",
       "      <td>126.879484<\/td>\n",
       "      <td>9.003<\/td>\n",
       "      <td>3<\/td>\n",
       "      <td>12<\/td>\n",
       "      <td>2010<\/td>\n",
       "    <\/tr>\n",
       "    <tr>\n",
       "      <th>1333<\/th>\n",
       "      <td>10<\/td>\n",
       "      <td>3749057.69<\/td>\n",
       "      <td>0<\/td>\n",
       "      <td>57.06<\/td>\n",
       "      <td>3.236<\/td>\n",
       "      <td>126.983581<\/td>\n",
       "      <td>9.003<\/td>\n",
       "      <td>4<\/td>\n",
       "      <td>12<\/td>\n",
       "      <td>2010<\/td>\n",
       "    <\/tr>\n",
       "    <tr>\n",
       "      <th>1384<\/th>\n",
       "      <td>10<\/td>\n",
       "      <td>2555031.18<\/td>\n",
       "      <td>0<\/td>\n",
       "      <td>50.53<\/td>\n",
       "      <td>3.489<\/td>\n",
       "      <td>129.898065<\/td>\n",
       "      <td>7.874<\/td>\n",
       "      <td>3<\/td>\n",
       "      <td>12<\/td>\n",
       "      <td>2011<\/td>\n",
       "    <\/tr>\n",
       "    <tr>\n",
       "      <th>1385<\/th>\n",
       "      <td>10<\/td>\n",
       "      <td>3487986.89<\/td>\n",
       "      <td>0<\/td>\n",
       "      <td>48.36<\/td>\n",
       "      <td>3.541<\/td>\n",
       "      <td>129.984548<\/td>\n",
       "      <td>7.874<\/td>\n",
       "      <td>4<\/td>\n",
       "      <td>12<\/td>\n",
       "      <td>2011<\/td>\n",
       "    <\/tr>\n",
       "    <tr>\n",
       "      <th>1761<\/th>\n",
       "      <td>13<\/td>\n",
       "      <td>2771646.81<\/td>\n",
       "      <td>0<\/td>\n",
       "      <td>35.21<\/td>\n",
       "      <td>2.842<\/td>\n",
       "      <td>126.879484<\/td>\n",
       "      <td>7.795<\/td>\n",
       "      <td>3<\/td>\n",
       "      <td>12<\/td>\n",
       "      <td>2010<\/td>\n",
       "    <\/tr>\n",
       "    <tr>\n",
       "      <th>1762<\/th>\n",
       "      <td>13<\/td>\n",
       "      <td>3595903.20<\/td>\n",
       "      <td>0<\/td>\n",
       "      <td>34.90<\/td>\n",
       "      <td>2.846<\/td>\n",
       "      <td>126.983581<\/td>\n",
       "      <td>7.795<\/td>\n",
       "      <td>4<\/td>\n",
       "      <td>12<\/td>\n",
       "      <td>2010<\/td>\n",
       "    <\/tr>\n",
       "    <tr>\n",
       "      <th>1813<\/th>\n",
       "      <td>13<\/td>\n",
       "      <td>2760346.71<\/td>\n",
       "      <td>0<\/td>\n",
       "      <td>27.85<\/td>\n",
       "      <td>3.282<\/td>\n",
       "      <td>129.898065<\/td>\n",
       "      <td>6.392<\/td>\n",
       "      <td>3<\/td>\n",
       "      <td>12<\/td>\n",
       "      <td>2011<\/td>\n",
       "    <\/tr>\n",
       "    <tr>\n",
       "      <th>1814<\/th>\n",
       "      <td>13<\/td>\n",
       "      <td>3556766.03<\/td>\n",
       "      <td>0<\/td>\n",
       "      <td>24.76<\/td>\n",
       "      <td>3.186<\/td>\n",
       "      <td>129.984548<\/td>\n",
       "      <td>6.392<\/td>\n",
       "      <td>4<\/td>\n",
       "      <td>12<\/td>\n",
       "      <td>2011<\/td>\n",
       "    <\/tr>\n",
       "    <tr>\n",
       "      <th>1903<\/th>\n",
       "      <td>14<\/td>\n",
       "      <td>2600519.26<\/td>\n",
       "      <td>0<\/td>\n",
       "      <td>30.54<\/td>\n",
       "      <td>3.109<\/td>\n",
       "      <td>182.551954<\/td>\n",
       "      <td>8.724<\/td>\n",
       "      <td>2<\/td>\n",
       "      <td>12<\/td>\n",
       "      <td>2010<\/td>\n",
       "    <\/tr>\n",
       "    <tr>\n",
       "      <th>1904<\/th>\n",
       "      <td>14<\/td>\n",
       "      <td>2762861.41<\/td>\n",
       "      <td>0<\/td>\n",
       "      <td>30.51<\/td>\n",
       "      <td>3.140<\/td>\n",
       "      <td>182.517732<\/td>\n",
       "      <td>8.724<\/td>\n",
       "      <td>3<\/td>\n",
       "      <td>12<\/td>\n",
       "      <td>2010<\/td>\n",
       "    <\/tr>\n",
       "    <tr>\n",
       "      <th>1905<\/th>\n",
       "      <td>14<\/td>\n",
       "      <td>3818686.45<\/td>\n",
       "      <td>0<\/td>\n",
       "      <td>30.59<\/td>\n",
       "      <td>3.141<\/td>\n",
       "      <td>182.544590<\/td>\n",
       "      <td>8.724<\/td>\n",
       "      <td>4<\/td>\n",
       "      <td>12<\/td>\n",
       "      <td>2010<\/td>\n",
       "    <\/tr>\n",
       "    <tr>\n",
       "      <th>1956<\/th>\n",
       "      <td>14<\/td>\n",
       "      <td>2594363.09<\/td>\n",
       "      <td>0<\/td>\n",
       "      <td>39.93<\/td>\n",
       "      <td>3.413<\/td>\n",
       "      <td>188.797935<\/td>\n",
       "      <td>8.523<\/td>\n",
       "      <td>3<\/td>\n",
       "      <td>12<\/td>\n",
       "      <td>2011<\/td>\n",
       "    <\/tr>\n",
       "    <tr>\n",
       "      <th>1957<\/th>\n",
       "      <td>14<\/td>\n",
       "      <td>3369068.99<\/td>\n",
       "      <td>0<\/td>\n",
       "      <td>42.27<\/td>\n",
       "      <td>3.389<\/td>\n",
       "      <td>188.929975<\/td>\n",
       "      <td>8.523<\/td>\n",
       "      <td>4<\/td>\n",
       "      <td>12<\/td>\n",
       "      <td>2011<\/td>\n",
       "    <\/tr>\n",
       "    <tr>\n",
       "      <th>2620<\/th>\n",
       "      <td>19<\/td>\n",
       "      <td>2678206.42<\/td>\n",
       "      <td>0<\/td>\n",
       "      <td>26.05<\/td>\n",
       "      <td>3.309<\/td>\n",
       "      <td>132.747742<\/td>\n",
       "      <td>8.067<\/td>\n",
       "      <td>4<\/td>\n",
       "      <td>12<\/td>\n",
       "      <td>2010<\/td>\n",
       "    <\/tr>\n",
       "    <tr>\n",
       "      <th>2761<\/th>\n",
       "      <td>20<\/td>\n",
       "      <td>2752122.08<\/td>\n",
       "      <td>0<\/td>\n",
       "      <td>24.27<\/td>\n",
       "      <td>3.109<\/td>\n",
       "      <td>204.687738<\/td>\n",
       "      <td>7.484<\/td>\n",
       "      <td>2<\/td>\n",
       "      <td>12<\/td>\n",
       "      <td>2010<\/td>\n",
       "    <\/tr>\n",
       "    <tr>\n",
       "      <th>2762<\/th>\n",
       "      <td>20<\/td>\n",
       "      <td>2819193.17<\/td>\n",
       "      <td>0<\/td>\n",
       "      <td>24.07<\/td>\n",
       "      <td>3.140<\/td>\n",
       "      <td>204.632119<\/td>\n",
       "      <td>7.484<\/td>\n",
       "      <td>3<\/td>\n",
       "      <td>12<\/td>\n",
       "      <td>2010<\/td>\n",
       "    <\/tr>\n",
       "    <tr>\n",
       "      <th>2763<\/th>\n",
       "      <td>20<\/td>\n",
       "      <td>3766687.43<\/td>\n",
       "      <td>0<\/td>\n",
       "      <td>25.17<\/td>\n",
       "      <td>3.141<\/td>\n",
       "      <td>204.637673<\/td>\n",
       "      <td>7.484<\/td>\n",
       "      <td>4<\/td>\n",
       "      <td>12<\/td>\n",
       "      <td>2010<\/td>\n",
       "    <\/tr>\n",
       "    <tr>\n",
       "      <th>2813<\/th>\n",
       "      <td>20<\/td>\n",
       "      <td>2546123.78<\/td>\n",
       "      <td>0<\/td>\n",
       "      <td>41.64<\/td>\n",
       "      <td>3.415<\/td>\n",
       "      <td>211.866786<\/td>\n",
       "      <td>7.082<\/td>\n",
       "      <td>2<\/td>\n",
       "      <td>12<\/td>\n",
       "      <td>2011<\/td>\n",
       "    <\/tr>\n",
       "    <tr>\n",
       "      <th>2814<\/th>\n",
       "      <td>20<\/td>\n",
       "      <td>2762816.65<\/td>\n",
       "      <td>0<\/td>\n",
       "      <td>37.16<\/td>\n",
       "      <td>3.413<\/td>\n",
       "      <td>212.068504<\/td>\n",
       "      <td>7.082<\/td>\n",
       "      <td>3<\/td>\n",
       "      <td>12<\/td>\n",
       "      <td>2011<\/td>\n",
       "    <\/tr>\n",
       "    <tr>\n",
       "      <th>2815<\/th>\n",
       "      <td>20<\/td>\n",
       "      <td>3555371.03<\/td>\n",
       "      <td>0<\/td>\n",
       "      <td>40.19<\/td>\n",
       "      <td>3.389<\/td>\n",
       "      <td>212.236040<\/td>\n",
       "      <td>7.082<\/td>\n",
       "      <td>4<\/td>\n",
       "      <td>12<\/td>\n",
       "      <td>2011<\/td>\n",
       "    <\/tr>\n",
       "    <tr>\n",
       "      <th>3192<\/th>\n",
       "      <td>23<\/td>\n",
       "      <td>2734277.10<\/td>\n",
       "      <td>0<\/td>\n",
       "      <td>22.96<\/td>\n",
       "      <td>3.150<\/td>\n",
       "      <td>132.747742<\/td>\n",
       "      <td>5.287<\/td>\n",
       "      <td>4<\/td>\n",
       "      <td>12<\/td>\n",
       "      <td>2010<\/td>\n",
       "    <\/tr>\n",
       "    <tr>\n",
       "      <th>3244<\/th>\n",
       "      <td>23<\/td>\n",
       "      <td>2587953.32<\/td>\n",
       "      <td>0<\/td>\n",
       "      <td>27.80<\/td>\n",
       "      <td>3.413<\/td>\n",
       "      <td>136.588387<\/td>\n",
       "      <td>4.420<\/td>\n",
       "      <td>4<\/td>\n",
       "      <td>12<\/td>\n",
       "      <td>2011<\/td>\n",
       "    <\/tr>\n",
       "    <tr>\n",
       "      <th>3764<\/th>\n",
       "      <td>27<\/td>\n",
       "      <td>3078162.08<\/td>\n",
       "      <td>0<\/td>\n",
       "      <td>31.34<\/td>\n",
       "      <td>3.309<\/td>\n",
       "      <td>136.597273<\/td>\n",
       "      <td>8.021<\/td>\n",
       "      <td>4<\/td>\n",
       "      <td>12<\/td>\n",
       "      <td>2010<\/td>\n",
       "    <\/tr>\n",
       "    <tr>\n",
       "      <th>3816<\/th>\n",
       "      <td>27<\/td>\n",
       "      <td>2739019.75<\/td>\n",
       "      <td>0<\/td>\n",
       "      <td>41.59<\/td>\n",
       "      <td>3.587<\/td>\n",
       "      <td>140.528765<\/td>\n",
       "      <td>7.906<\/td>\n",
       "      <td>4<\/td>\n",
       "      <td>12<\/td>\n",
       "      <td>2011<\/td>\n",
       "    <\/tr>\n",
       "    <tr>\n",
       "      <th>5532<\/th>\n",
       "      <td>39<\/td>\n",
       "      <td>2554482.84<\/td>\n",
       "      <td>0<\/td>\n",
       "      <td>54.62<\/td>\n",
       "      <td>3.112<\/td>\n",
       "      <td>218.054185<\/td>\n",
       "      <td>7.716<\/td>\n",
       "      <td>4<\/td>\n",
       "      <td>12<\/td>\n",
       "      <td>2011<\/td>\n",
       "    <\/tr>\n",
       "  <\/tbody>\n",
       "<\/table>\n",
       "<\/div>"
      ]
     },
     "metadata":{
      
     },
     "output_type":"display_data"
    }
   ],
   "metadata":{
    "datalore":{
     "node_id":"Bj9jYmSpw5me0DhZVwb1FJ",
     "type":"CODE",
     "hide_input_from_viewers":true,
     "hide_output_from_viewers":true
    }
   }
  },
  {
   "cell_type":"markdown",
   "source":[
    "`Holiday_Flag` равен 0??? Как-то странно..."
   ],
   "attachments":{
    
   },
   "metadata":{
    "datalore":{
     "node_id":"mLCmIKEuBMVv4xwNkef9zY",
     "type":"MD",
     "hide_input_from_viewers":true,
     "hide_output_from_viewers":true
    }
   }
  },
  {
   "cell_type":"code",
   "source":[
    "df[(df['Weekly_Sales'] > 2.5e6) & (df['Month'] == 11)]"
   ],
   "execution_count":180,
   "outputs":[
    {
     "data":{
      "text\/html":[
       "<div>\n",
       "<style scoped>\n",
       "    .dataframe tbody tr th:only-of-type {\n",
       "        vertical-align: middle;\n",
       "    }\n",
       "\n",
       "    .dataframe tbody tr th {\n",
       "        vertical-align: top;\n",
       "    }\n",
       "\n",
       "    .dataframe thead th {\n",
       "        text-align: right;\n",
       "    }\n",
       "<\/style>\n",
       "<table border=\"1\" class=\"dataframe\">\n",
       "  <thead>\n",
       "    <tr style=\"text-align: right;\">\n",
       "      <th><\/th>\n",
       "      <th>Store<\/th>\n",
       "      <th>Weekly_Sales<\/th>\n",
       "      <th>Holiday_Flag<\/th>\n",
       "      <th>Temperature<\/th>\n",
       "      <th>Fuel_Price<\/th>\n",
       "      <th>CPI<\/th>\n",
       "      <th>Unemployment<\/th>\n",
       "      <th>Week<\/th>\n",
       "      <th>Month<\/th>\n",
       "      <th>Year<\/th>\n",
       "    <\/tr>\n",
       "  <\/thead>\n",
       "  <tbody>\n",
       "    <tr>\n",
       "      <th>185<\/th>\n",
       "      <td>2<\/td>\n",
       "      <td>2658725.29<\/td>\n",
       "      <td>1<\/td>\n",
       "      <td>62.98<\/td>\n",
       "      <td>2.735<\/td>\n",
       "      <td>211.406287<\/td>\n",
       "      <td>8.163<\/td>\n",
       "      <td>4<\/td>\n",
       "      <td>11<\/td>\n",
       "      <td>2010<\/td>\n",
       "    <\/tr>\n",
       "    <tr>\n",
       "      <th>237<\/th>\n",
       "      <td>2<\/td>\n",
       "      <td>2614202.30<\/td>\n",
       "      <td>1<\/td>\n",
       "      <td>56.36<\/td>\n",
       "      <td>3.236<\/td>\n",
       "      <td>218.113027<\/td>\n",
       "      <td>7.441<\/td>\n",
       "      <td>4<\/td>\n",
       "      <td>11<\/td>\n",
       "      <td>2011<\/td>\n",
       "    <\/tr>\n",
       "    <tr>\n",
       "      <th>471<\/th>\n",
       "      <td>4<\/td>\n",
       "      <td>2789469.45<\/td>\n",
       "      <td>1<\/td>\n",
       "      <td>48.08<\/td>\n",
       "      <td>2.752<\/td>\n",
       "      <td>126.669267<\/td>\n",
       "      <td>7.127<\/td>\n",
       "      <td>4<\/td>\n",
       "      <td>11<\/td>\n",
       "      <td>2010<\/td>\n",
       "    <\/tr>\n",
       "    <tr>\n",
       "      <th>523<\/th>\n",
       "      <td>4<\/td>\n",
       "      <td>3004702.33<\/td>\n",
       "      <td>1<\/td>\n",
       "      <td>47.96<\/td>\n",
       "      <td>3.225<\/td>\n",
       "      <td>129.836400<\/td>\n",
       "      <td>5.143<\/td>\n",
       "      <td>4<\/td>\n",
       "      <td>11<\/td>\n",
       "      <td>2011<\/td>\n",
       "    <\/tr>\n",
       "    <tr>\n",
       "      <th>1329<\/th>\n",
       "      <td>10<\/td>\n",
       "      <td>2939946.38<\/td>\n",
       "      <td>1<\/td>\n",
       "      <td>55.33<\/td>\n",
       "      <td>3.162<\/td>\n",
       "      <td>126.669267<\/td>\n",
       "      <td>9.003<\/td>\n",
       "      <td>4<\/td>\n",
       "      <td>11<\/td>\n",
       "      <td>2010<\/td>\n",
       "    <\/tr>\n",
       "    <tr>\n",
       "      <th>1381<\/th>\n",
       "      <td>10<\/td>\n",
       "      <td>2950198.64<\/td>\n",
       "      <td>1<\/td>\n",
       "      <td>60.68<\/td>\n",
       "      <td>3.760<\/td>\n",
       "      <td>129.836400<\/td>\n",
       "      <td>7.874<\/td>\n",
       "      <td>4<\/td>\n",
       "      <td>11<\/td>\n",
       "      <td>2011<\/td>\n",
       "    <\/tr>\n",
       "    <tr>\n",
       "      <th>1758<\/th>\n",
       "      <td>13<\/td>\n",
       "      <td>2766400.05<\/td>\n",
       "      <td>1<\/td>\n",
       "      <td>28.22<\/td>\n",
       "      <td>2.830<\/td>\n",
       "      <td>126.669267<\/td>\n",
       "      <td>7.795<\/td>\n",
       "      <td>4<\/td>\n",
       "      <td>11<\/td>\n",
       "      <td>2010<\/td>\n",
       "    <\/tr>\n",
       "    <tr>\n",
       "      <th>1810<\/th>\n",
       "      <td>13<\/td>\n",
       "      <td>2864170.61<\/td>\n",
       "      <td>1<\/td>\n",
       "      <td>38.89<\/td>\n",
       "      <td>3.445<\/td>\n",
       "      <td>129.836400<\/td>\n",
       "      <td>6.392<\/td>\n",
       "      <td>4<\/td>\n",
       "      <td>11<\/td>\n",
       "      <td>2011<\/td>\n",
       "    <\/tr>\n",
       "    <tr>\n",
       "      <th>1901<\/th>\n",
       "      <td>14<\/td>\n",
       "      <td>2921709.71<\/td>\n",
       "      <td>1<\/td>\n",
       "      <td>46.15<\/td>\n",
       "      <td>3.039<\/td>\n",
       "      <td>182.783277<\/td>\n",
       "      <td>8.724<\/td>\n",
       "      <td>4<\/td>\n",
       "      <td>11<\/td>\n",
       "      <td>2010<\/td>\n",
       "    <\/tr>\n",
       "    <tr>\n",
       "      <th>1953<\/th>\n",
       "      <td>14<\/td>\n",
       "      <td>2685351.81<\/td>\n",
       "      <td>1<\/td>\n",
       "      <td>48.71<\/td>\n",
       "      <td>3.492<\/td>\n",
       "      <td>188.350400<\/td>\n",
       "      <td>8.523<\/td>\n",
       "      <td>4<\/td>\n",
       "      <td>11<\/td>\n",
       "      <td>2011<\/td>\n",
       "    <\/tr>\n",
       "    <tr>\n",
       "      <th>2759<\/th>\n",
       "      <td>20<\/td>\n",
       "      <td>2811634.04<\/td>\n",
       "      <td>1<\/td>\n",
       "      <td>46.66<\/td>\n",
       "      <td>3.039<\/td>\n",
       "      <td>204.962100<\/td>\n",
       "      <td>7.484<\/td>\n",
       "      <td>4<\/td>\n",
       "      <td>11<\/td>\n",
       "      <td>2010<\/td>\n",
       "    <\/tr>\n",
       "    <tr>\n",
       "      <th>2811<\/th>\n",
       "      <td>20<\/td>\n",
       "      <td>2906233.25<\/td>\n",
       "      <td>1<\/td>\n",
       "      <td>46.38<\/td>\n",
       "      <td>3.492<\/td>\n",
       "      <td>211.412076<\/td>\n",
       "      <td>7.082<\/td>\n",
       "      <td>4<\/td>\n",
       "      <td>11<\/td>\n",
       "      <td>2011<\/td>\n",
       "    <\/tr>\n",
       "    <tr>\n",
       "      <th>3760<\/th>\n",
       "      <td>27<\/td>\n",
       "      <td>2627910.75<\/td>\n",
       "      <td>1<\/td>\n",
       "      <td>46.67<\/td>\n",
       "      <td>3.186<\/td>\n",
       "      <td>136.689571<\/td>\n",
       "      <td>8.021<\/td>\n",
       "      <td>4<\/td>\n",
       "      <td>11<\/td>\n",
       "      <td>2010<\/td>\n",
       "    <\/tr>\n",
       "    <tr>\n",
       "      <th>3812<\/th>\n",
       "      <td>27<\/td>\n",
       "      <td>2504400.71<\/td>\n",
       "      <td>1<\/td>\n",
       "      <td>47.88<\/td>\n",
       "      <td>3.689<\/td>\n",
       "      <td>140.421786<\/td>\n",
       "      <td>7.906<\/td>\n",
       "      <td>4<\/td>\n",
       "      <td>11<\/td>\n",
       "      <td>2011<\/td>\n",
       "    <\/tr>\n",
       "  <\/tbody>\n",
       "<\/table>\n",
       "<\/div>"
      ]
     },
     "metadata":{
      
     },
     "output_type":"display_data"
    }
   ],
   "metadata":{
    "datalore":{
     "node_id":"Icc3oDnUtKtiQDdjf3K1va",
     "type":"CODE",
     "hide_input_from_viewers":true,
     "hide_output_from_viewers":true
    }
   }
  },
  {
   "cell_type":"markdown",
   "source":[
    "* Ну, здесь, видимо, из-за Дня Благодарения поставлена 1 в `Holiday_Flag` \n",
    "* Да, действительно, конец ноября, декабрь влияет на эти выбросы. Предполагаю, что модель сможет это учесть, поэтому не будем считать это выбросами"
   ],
   "attachments":{
    
   },
   "metadata":{
    "datalore":{
     "node_id":"CNYoIv6NfvcvVI8zfi7ACN",
     "type":"MD",
     "hide_input_from_viewers":true,
     "hide_output_from_viewers":true
    }
   }
  },
  {
   "cell_type":"markdown",
   "source":[
    "## Сравнение признаков "
   ],
   "attachments":{
    
   },
   "metadata":{
    "datalore":{
     "node_id":"B0RiswAWA40qxQhunbpKTf",
     "type":"MD",
     "hide_input_from_viewers":true,
     "hide_output_from_viewers":true
    }
   }
  },
  {
   "cell_type":"markdown",
   "source":[
    "Преобразуем сначала некоторые признаки в категориальный тип"
   ],
   "attachments":{
    
   },
   "metadata":{
    "datalore":{
     "node_id":"o2VCEu8A6iFzcWef4IyrcS",
     "type":"MD",
     "hide_input_from_viewers":true,
     "hide_output_from_viewers":true
    }
   }
  },
  {
   "cell_type":"code",
   "source":[
    "df = df.astype({\n",
    "    'Store': 'object',\n",
    "    'Holiday_Flag': 'object',\n",
    "    'Week': 'object',\n",
    "    'Month': 'object',\n",
    "    'Year': 'object',\n",
    "})\n",
    "df.dtypes"
   ],
   "execution_count":181,
   "outputs":[
    {
     "data":{
      "text\/html":[
       "<pre>Store            object\n",
       "Weekly_Sales    float64\n",
       "Holiday_Flag     object\n",
       "Temperature     float64\n",
       "Fuel_Price      float64\n",
       "CPI             float64\n",
       "Unemployment    float64\n",
       "Week             object\n",
       "Month            object\n",
       "Year             object\n",
       "dtype: object<\/pre>"
      ]
     },
     "metadata":{
      
     },
     "output_type":"display_data"
    }
   ],
   "metadata":{
    "datalore":{
     "node_id":"vYeci1LZujgUWoVU57r0ud",
     "type":"CODE",
     "hide_input_from_viewers":true,
     "hide_output_from_viewers":true
    }
   }
  },
  {
   "cell_type":"code",
   "source":[
    "fig = plt.figure(figsize=(20, 25))\n",
    "fig.subplots_adjust(hspace=0.4, wspace=0.4)\n",
    "sns.boxplot(df, x='Store', y='Weekly_Sales', ax=fig.add_subplot(4, 3, (1, 3)))\n",
    "sns.boxplot(df, x='Holiday_Flag', y='Weekly_Sales', ax=fig.add_subplot(4, 3, 4))\n",
    "sns.histplot(df, x='Temperature', y='Weekly_Sales',\n",
    "             ax=fig.add_subplot(4, 3, 5))  # Может быть зависимость будет включена в дни?\n",
    "sns.histplot(df, x='Fuel_Price', y='Weekly_Sales', ax=fig.add_subplot(4, 3, 6))  # ???\n",
    "sns.histplot(df, x='CPI', y='Weekly_Sales', ax=fig.add_subplot(4, 3, 7))\n",
    "sns.histplot(df, x='Unemployment', y='Weekly_Sales', ax=fig.add_subplot(4, 3, 8))\n",
    "sns.violinplot(df, x='Week', y='Weekly_Sales', ax=fig.add_subplot(4, 3, 9))\n",
    "sns.violinplot(df, x='Month', y='Weekly_Sales', ax=fig.add_subplot(4, 3, 10))\n",
    "sns.boxplot(df, x='Year', y='Weekly_Sales', ax=fig.add_subplot(4, 3, 11))\n",
    "plt.show()"
   ],
   "execution_count":182,
   "outputs":[
    {
     "data":{
      "image\/png":"[encoded data removed]"
     },
     "metadata":{
      "image\/png":{
       
      }
     },
     "output_type":"display_data"
    }
   ],
   "metadata":{
    "datalore":{
     "node_id":"e5aSLwC7vGdv0wyWEoSlAC",
     "type":"CODE",
     "hide_input_from_viewers":true,
     "hide_output_from_viewers":true
    }
   }
  },
  {
   "cell_type":"markdown",
   "source":[
    "* Ну, линейные зависимости не так видны в большинстве случаев... Посмотрим еще на это, когда будем выбирать наиболее влиятельные признаки\n",
    "* `Weekly_sales` довольно высоки при `Holiday_flag` == 0, потому что под Новый Год и Рождество флаг равен 0...\n",
    "* Предполагаю, что основную роль будет играть номер магазина :)"
   ],
   "attachments":{
    
   },
   "metadata":{
    "datalore":{
     "node_id":"oSi32hDBOY448RYTHprX8Z",
     "type":"MD",
     "hide_input_from_viewers":true,
     "hide_output_from_viewers":true
    }
   }
  },
  {
   "cell_type":"code",
   "source":[
    "sns.boxplot(df, x='Month', y='Temperature');"
   ],
   "execution_count":183,
   "outputs":[
    {
     "data":{
      "image\/png":"[encoded data removed]"
     },
     "metadata":{
      "image\/png":{
       
      }
     },
     "output_type":"display_data"
    }
   ],
   "metadata":{
    "datalore":{
     "node_id":"bWIQgJDtRrE7ZcRvQJ31CN",
     "type":"CODE",
     "hide_input_from_viewers":true,
     "hide_output_from_viewers":true
    }
   }
  },
  {
   "cell_type":"markdown",
   "source":[
    "<img src='data:image\/jpeg;base64,\/9j\/4AAQSkZJRgABAQAAAQABAAD\/2wCEAAoHCBUVFRgVFRUYGBgaHBoYHBoaGBoYGhgeGBgaGhgZGBocIS4lHB4rIRgYJjgmKy8xNTU1GiQ7QDs0Py40NTEBDAwMEA8QHhISHzQrJSs0NDQ0NDQ0NDQ0NDQ0NDQ0NDQ0NDQ0NDQ0NDQxNDQ0NDQ0NDQ0NDQ0NDQ0NDQ0NDQ0NP\/AABEIAMUBAAMBIgACEQEDEQH\/xAAbAAABBQEBAAAAAAAAAAAAAAAEAAECAwUGB\/\/EAD4QAAIBAgQDBAkCBgECBwAAAAECAAMRBBIhMQVBUWFxgZEGEyIyobHB0fBCkhQjUmJy4fEzggckNENTouL\/xAAYAQADAQEAAAAAAAAAAAAAAAAAAQIDBP\/EACQRAAICAgMAAgIDAQAAAAAAAAABAhESIQMxQSJRE2EyccEE\/9oADAMBAAIRAxEAPwC68V4opxUdI1zHvGjwpAK\/bHvGihSAF4nUIpsfDznMKxOtz5zpeKr\/AC2nLUzc6xxRpHouqUiRe58DGwfEXota5K8wTC0W40HiYLisP4+caa6YzrMJilqKHU3B+HYYQDOD4bj2oP8A281vO2w1dXUMpuCIpRozaovBjgxhJLJYh7xExRmkjAeIVcqOb7AzluCE5C1zqTzm76Q1MtB+0WmRwqnams1jqLZD7DwxtuYqZN9zG5SVGSBcT2yjMeplr7SlY0gJZj1jZu2RdwBczNqcRubIPEwr6KjFs0nrAbmRTEBjYN8ZlMztqSfpK85BB5jnGoluCN4E9Yr9sgjXElFRkPc9Y1z1MUaFIBZj1MRY9TFImFAbsUUUZQooopICjxo8ABset0bunHnQzt6yXUjqJxdWnuO+VFmkAqhVNuXzlruDoQO+ZSKYfRFhuT4QlFLZdAWLp6wrgPEjSfIx9knyldY\/n+pmVjY3lxWSomSPSkcEXEsWcZwrjuQZX93qP09\/ZN7D8cosdHXbraZyi14ZmtIudJntx3Djeovhr8o1TjWHA\/6i+Bv8pKi\/oDM9LX\/lqvVhKcMtkUdko9IcUlR6YRgwBuSDcQpGGms1aqKRHpY20tojSUuZeh0k+AKqdIJWxAQXJkcfi1UXmRmLm7bchBIuMb7Hq1nqE9OXT\/cMo4cAfe3zjUka2wA8DCPXWHXwtBvxGhTiAANDAS1zLsVUB2g9IXYS0tBRv0Fso7pOQUx5BgPeIxojABRmMUUEBuxRRSShRRRQAeKKPABjOQxyZXbvM68zlMY+aq4I0BIvGmXx9gVhf3rQhattmJ8IJiUymOhFr3ltWjaiyq1xAa9Eb3lr1dwNNN+spdddW1Pw7ZUbREqKylx8JGnQte5tbXvlrIdvG\/dHSmdzr\/xNLIcbKUZWY2JtbzMi7i9rSVLDtmzADLsbHnKq6WMaqzN2kJLaDrLSxBAuwvzuZQNwekRqEv1AjZK6C2x7qLZybdl\/jL6HFKn6m0Hme6Auqlr6+ElTpi+p05yWlRSTsuq1S5zHToIZhadx1giUC20JpnLoT+dsiXVI2SDw5Ue6fjBquMXbK37pYtRrafAn5QWs773v8fORGO9gUtUuefjrCcCt3EG8rzS4SmpbstLl0D0jTiiimRgKMY8YwAYxrxRowOgiiikFDxRRQAUeNHgAzTkeNHK7Ea3Ovfadc04PjT\/z3HI287byoq2VGWLHpPftlZYa3NuyNh1yDMx326yNNbm5F7\/l5pXZs5WJBfnoN4kQAk8\/9aSdRV2Bt4ayyhTBvc3tqNINk0Du50NwORHnGpHPddupguOqe0R2w\/A07U2bmR95T0rIyt0C4CqcxB2EWO3FpDAaZzb8vIlxmDdtu7WOt2RfxphNOmqqL6E\/GVKQGIK27R2RuIHRVHWXV1IRLnl5AXvD\/Sva+ilqdzpIlOV7C+\/U9kehUuDc69ezp4ybtfl2AdOce0Tp7GV2HumF03B3gbIV216\/QRID1AP5r2RNWXGVaCXzDVWIHfB\/Wm\/bLkqXHK\/UwdiQYRG\/0FUl0uZuYBAEFtb6znc+YEHpedHgRZFHYPlImKb0ERRRTEyFGMeMZQEY0cxoAdBFFJLuJJQ0UvrU9LiDqYASiiiMAA+J12RGZNwJwjDO5d7knwuZ1\/HcUFQrzbTwnJo3tiwmnH6XFa2W1dbAAaaX6d8klicp17oPisUc2UC5MtwmHfsAlNVG2UpK6CHpgDb4XPwk8MnMfLaZ+Jxro2XTxErpcVK6lRvqBfXqeknCTiDnFOiXFcGc+ZRod7cppo4CeGkhhOJo5t85PH07LcSXJuoyKjGO5IA\/hwBYHcZj3mC0VAJ6GHVD7PfvBqS21E1i3TIlFWitaJZlza7\/AJ8oRxIex3aff4xkq66SeIou62HW5g5bTYY\/F0ZuAp5mta80a4yNYBft94dgMGKa678yN+6DYpfa1BIPIfW0WalLQowqOyhiLDl9ZTUSx2hATUHbxEpxDj8vKT3oGtEWfmBtvFXcWvb6ytDpvr8PKU1WJFry8dmblom1YBbDczrsL7i9w+U4hF1nYcKq5kXs08pHKtCUm+w2KKNOcBSJjxjKAYxgYmjLvADohGYaSQiklBVKpmWDVUsbiW4QWLDkdZN0kjB1Mi5kT7JtIYl7KTvpKEcpxytmqHXbSZFWrlFuZluKxFybbkyinhmY3M6Iqlst30izB0WvnIvbxvND+IAsdtfwSVT2E017IG4LagW+h7ZDeTtlJYovx+GWt7SEZxynP4jDshsykTSqkLqDY9klSx2bR\/aHxlxUorW0ROMZPemZAutiN51CYkPQB521mPiaS8gLSWAqki3K+0JxUkmHGnF4sIfQfmkqJhFYaQd9Ios0kSwtPMZZX4kE9ldSN4G+KyA23MFpYV31AveNwTdy6M3NpYx7C34y52la8SY7jytrLk4Od3dV7OcKw6UaeqjO3U6289IXFfxRKXI3t0BrVc7KQJQ1cqbEec1mrB9T8IDjlB2t+dsqMrdUOUWldkPWA6+MHY3bSVIbGxkm7JaRi5WWsk2OA1tWXuP3mOpvL8HVKOp8DFJWqGjr7xpCm1xJzlKEY0eMYAQaPSHtL3j5yJlmHHtr\/kPnGB0Vo0cRRFF2GOsvaDUCcwl7mQwAq1MXmdjqhCMPCarmZ\/E6V0iQ12csmEUm+ZfP7S2pQKjbnFhkKudD5QrFv7NjfxEqTlaN1RBHsPat5TMxz2JsdDytK6mYm2cd0LwwA0crfyPyEpLHYrszMmbT4DSL1HZNjF0VUE3HlMxKmZsvLrymkZuS0TivQeoDaPgz2Q16AtAqRCkylLJUDjUkwxtoNXbSE5xl3EzsU99pMU7HySSQK63M0EfItl3POCUUvDcgtNZV6Ycaatlefmde2Iuf069Ympna8rNG36rcuyLRTyHdh1k6KG3WFYfCJvvE9uWnlFkukUovtmXiUlGYzTNC8c4IW1ZR5\/aUpIylxO7QDSIk1Gsm2DPKx7iDIikQdQZVoimdLw+pdBDZi8JfcTZWc01TLFeMTHMiTJAjL8GPbT\/ISiEYD\/qJ3\/QxvoDeivGvLKdMnuksolhfel9WRQW2kKpMhsZBoLjEJU2l4aV4hxlNxpbraIDkcRw+oTfNbuv9bRqXDiTrUe\/Z\/wDkmWViGuwItryv8TGpOBybvLZR5CaW6Nqs0KOCC\/8AuVD+4\/SFrRXlqe1R9pnU8ZYbX8GPzIh2GxNx7gB6W\/3MpX6ICxwY6ZEPef8AUyqtFL60yLD9M38a4tqotz2guFCObhypHJvnrCMmkVqiPCsGrLYcuszOO8OakQ6+6TYidZTJFtARbVtvhAeNlalJl1Btcd42jhNqVik7WjjKzgC8qp0C9iBaavBODmqc1Q5UB25sftN6thFAsizolzKOl2ZqOTt9HLGmE3lfrbNpt8oVikYHVOcrR0vZ6drneUpatja8QRTphhuI9SgLay2nSQe4Lg8rnSXVFU73+Ezc96NK1sw3qMmnKU\/xJ7psNhc2xHjoftBK+DI3E2jKL7MZQl4yFHEjnHqYobLBWw9pJEtylYrsm5dEl1OskXkkS2plLtcwWxS0gvh9YhxOkRpyVIkG86bB1Myg9kz5V6JdBJkDJEyDNMgI3hXDDeovj8jAGYmaHCU9sdx+UJdDRtCaKJYWnH8CxZesq52bc2O2gnayZqnQ0Uskiyy68iZIzLxXsi\/KY2P4iCjKP+J0WOp+yZwmPci47Y4q3RcY2Pham\/1+gjPa9\/idfhBMM\/O0PexsR\/xLkqZoidOoL6kd1\/nNOhUBmIABqDaaGEPX875nKOgaNV6IZZnHAOrEg+E0Uq22lnrJmnRIGoe20HxFF2Guk1qVYE2MnWcRqVbCzAwwZBYj2ZKo4NtTp0M08QARAauHBhlbtjsyMQinZyLm+senSZtAynsPTqOsIq4LW95KjQA7LfD\/AFNclQ7IU8Ow5AdnI9xl1TXTfqG3HiNfnCDWB0OjfA3+H0PZBq1UKbPp0Oo\/2slW2KwJsIDqGI7CRbwbbztK61M09r+O3lCq9SwJ3vzFie9hsw7fjB1c7XGXuuh8N1PdNU36IEdQ39p7NvKIYfLzHfCvUL+nQ\/0nX9p5wOrVtpbwM0Tb0hOlspqmUyVTXUSAaaowk7ZPNymzwh\/ZtMMCafDnIJtJktAjbZ7SpjeMik7yy0w6ASiaHCvf8D9ICsP4UPbP+P1Elgc76PYgJiEJPO3mJ6YJ5Bh0JYW5G\/lPUuE4nPTU3vpvNf8AoSy0PjTxthTR1kiIyzAoyuNsMlr\/ADnE4lJ1npDUsLTm2A57wi6ZvBaMykcpsRNCjY7CB4mnreX4Osdss1ltWgqi5qIMtpMV05SwUzuZWzkG1vhMrvQBFPFawj115nrZuR0nSYT0bL4NMUKwGaolIJkJsXxK4cHNm6tmtl5W7YlBydImclHszQ8i9czX4t6KVqVU0qZavlRHZkQrlztUABGZv\/jOt5l4vg1dCqslQM\/uqVa7dii1ydRpuLxPja7JU4v0ofGSlsXyj8U4PiaADVaTKGNlJXQnpcaZuzfQwTifBcXQT1tWhURNPbZSAL7Z+adPatrpNI8Q8olpxV5W+Iv4iRqcCxgqpT\/h6gd1ZlSwuyr7zDXYaSdL0Zxr3KYaq2VirWA0ZTZlOu4lrhFnH7BmxFxvry+0ZMSGGV9Ry6+HaJHD8HxD1WoLh6pqrqyZCrIORa9soNxYmwNx1ixfC8RTrLQahUWq1sqZCWe\/9FveGh1Fxoehl4UGaIK5pnqp1U8vDoesnodV0PTkfz8tCOI8LxFAAYmg9NXOhYC2a17qwuL21y3voZkshQkX\/OsMQy+i1q2mg71+0rZ1ca69v6h3\/wBQiLhtb6j81grudbaGXGJEpIeqmT6Hr3StTcyaPflccx9V6GTNLL2jkfv2yzKr\/oiIXgGAcAm0FQyBqFWB6QavQ7pHV5hETM+nUuLya1JhhQ7D1mhwj3m7h85jLWM1+Btcue76yJRaQ0crk9Wn9zaDxnccBo+pREvy37TqZzzcFrNWQtTbIpJO1tBpz6zp6qWRey0c5WjSTV0ukbIiMEwWJDeyT7Q+PbCnOkzJOJ9J8QfWWOlvzlMzPf8AN4V6Te05tMdK1u2XGNx0bRddhtdbjWCqbGXCpccvlaSCi0a0qZfYTh8T1Hn\/AKhFNFbUnwmaKZ3v94VTYj77\/KZyj9A4h38Cx2At32H+56R6NqicOpiqpdRXTRTl9o4xfVtoRorFGtzC21vacNgdR\/qbacSdaAoBhlDBxoLhlqCoDfsZQYuOeLbZhypyVI7PDK64nGFmDE0qJXKMuVf5+VdzqCGN+3ltBmNRl4eaeUuVvme7AA0BmY2IJNr89b7znKHpm1N6tR1Ds6ogKkLlCGoQSLG+tT4TnsV6Z4nPRcuitRBCqqWRsy5WzrfXQcrAcrToXLGtGK4Zs9FcI2HX22qWxouzC1nGPswUEmyq2ZVFzoo3mD6cYnG2x9OjTpvQFC9RnchkBovc01va9lvtvOP4j6dYmuhpEqAWWoMiZSrJUFRWU3NrOoOt+28p416aYvEUXo1DTRXAVsiWqOo5M2Yi3cB02uJpkgXDI9kalTXEUaz++6fw9PxV6z+YpD9vbM\/C1lWhXZ3dF\/jSuZPeu2KRVXY+yzEK39rNPJ8T6a42pVoVyUBw5f1YyEJ7aZGLLm1OUmxuLXhOD\/8AEDG0g2U0bO7VGvTJ9p2u1vb2vDJC\/DI9PVHXEcQZwik0KJQoSTkC4gKWJAs2cVNuQEYqrYrhzNq38PiCCdTquHBPx+M8soemuNWu+INRGZ1Wk6Oo9WVQsUAUEEAF35\/rN7yvGemGKqYiniC4D0gQgRbIgb31Cm9wwABuTsNrCxkhrikdx6d4kNw3EhUqlVrkesdkIDDF2cLZswW5ZVFtBaeQoS65b6jb7Tp+P+luIxSCnWKLTvmKU0KhmvcM92Yk3JPIX1te0wfUr+mJyRpDjkltmaqNeEJRzW6\/PshFenY368uh5ylagH55QyvoMEuyXqrC4lee+nLn9x2yb1C2vn2GRCiNfsbV9EHS35vBGhlR7jLAyLSkYyey\/D4oppuJqUagYXEw5bhq5U9kGrJTo3lm5wDZ\/wDt+s5+lUuLzoOA+6x\/uHymE1SNUdG1a8or1YEuPQc\/iPvE+LQ\/qE56YyNaqAc2xGxgWJ4w7nKWy20sOcfE1AdiPOCcTwQWzowYHcAgkH7R4nRwYN\/IhiEzjrMDE0SCdJu0nOWx0EorUriwlwbixyxbaMRMUV6QpMSTzlWIwZ1IB8oKtJ1Put5GdGKlsxzcXs1g5G2kKpVup162mdQduYbxWWlew+UxlA1U00a641l2It2n6SNXiLt3d8z0B6HyjljfmR4yPxhcSyrWJ5wZlt2+MnVrtyU+UFqITqQfIy4wYOaHZm\/pAHZoZXrubDsvcyLU78n8jIFCT7jWH9p1mqiQ5omzXvc2+sg9QX015xD\/AAa\/+J\/OkZc2+Vr\/AOJ+0rElzX2S9WGGot+aSdKmy\/q075UxfT2W26GMrv8A0t+0xYsWcU7CWBGp175X60HUaHmJWUfo3kY7YR73AMMV6Dm\/CT1AQbm\/MfWVFhvoZauFb+k7HkZD1JH6W8jGqE2\/SSvppKajSZDckb9plLUnP6G\/aY0iJT8KGeOxvr5\/eWHDP\/S37TGFFwfcb9p+0ozKxGaWmi9\/cb9p+0ZqL\/0N+0\/aAizDYooeona8BcGmSObfQThVov8A0N+0\/abfo9jXQlGVsragkHQzPkjlHRUZB8UUUszFFFFABRRRQAUUUUAFFFFABRRRQAUUUUAFFFFABRRRQAUUUUAFFFFABRRRQAUUUUAFNTg9dBnD01faxaxtobgXB308oooAaP8AF0iD\/wCXp76aLp\/9ddx5dsHweMpZf\/TpvbWx7ea9mvwsNI0UALUx1G1\/4dNx\/TfT\/s7+XOU4\/HJlf+Sl2As2mZS7EXvbUgWtttFFAD\/\/2Q=='>"
   ],
   "attachments":{
    
   },
   "metadata":{
    "datalore":{
     "node_id":"fuabbT2ydhPyLApsFZVAcz",
     "type":"MD",
     "hide_input_from_viewers":true,
     "hide_output_from_viewers":true
    }
   }
  },
  {
   "cell_type":"markdown",
   "source":[
    "[✔️] Найти данные, на которых интересно будет решать задачу регрессии. Зависимость целевого признака от нецелевых должна быть не слишком сложной, чтобы обученная линейная модель смогла показать приемлимый результат. В крайнем случае взять данные для предсказания стоимости машин тут (целевой признак для предсказания --- price).\n",
    "\n",
    "[✔️] Считать данные, выполнить первичный анализ данных, при необходимости произвести чистку данных (Data Cleaning).\n",
    "\n",
    "[✔️] Выполнить разведочный анализ (EDA), использовать визуализацию, сделать выводы, которые могут быть полезны при дальнейшем решении задачи регрессии.\n",
    "\n",
    "[✔️] При необходимости выполнить полезные преобразования данных (например, трансформировать категориальные признаки в количественные), убрать ненужные признаки, создать новые (Feature Engineering)."
   ],
   "attachments":{
    
   },
   "metadata":{
    "datalore":{
     "node_id":"kODhClgsKcT95OhRpjcCzB",
     "type":"MD",
     "hide_input_from_viewers":true,
     "hide_output_from_viewers":true
    }
   }
  },
  {
   "cell_type":"markdown",
   "source":[
    "# Предсказываем 🔮"
   ],
   "attachments":{
    
   },
   "metadata":{
    "datalore":{
     "node_id":"c6QzEVn0qB8dh8KhxNmzXO",
     "type":"MD",
     "hide_input_from_viewers":true,
     "hide_output_from_viewers":true
    }
   }
  },
  {
   "cell_type":"markdown",
   "source":[
    "## Реализуем свой gradient_descent"
   ],
   "attachments":{
    
   },
   "metadata":{
    "datalore":{
     "node_id":"Z5ropUOJN55swnugIAXjgg",
     "type":"MD",
     "hide_input_from_viewers":true,
     "hide_output_from_viewers":true
    }
   }
  },
  {
   "cell_type":"code",
   "source":[
    "def gradient_descent(\n",
    "        X_sample,\n",
    "        y_sample,\n",
    "        alpha=0.01,\n",
    "        get_gradient_coeff=lambda index: 1 \/ index ** 0.5,\n",
    "        norm_difference=1e-6,\n",
    "        solver='batch',\n",
    "        batch_size=100,\n",
    "        max_iteration_count=15000,\n",
    "        seed=666,\n",
    "):\n",
    "    \"\"\"Gradient Descent Linear Regression Solver\n",
    "    \n",
    "    :param X_sample: features for prediction, ndarray\n",
    "    :param y_sample: target feature\n",
    "    :param alpha: regularization factor, \n",
    "    :param norm_difference: min differnece between w_k and w_{k-1}\n",
    "    :param solver: 'batch', 'mini-batch' or 'stoch'\n",
    "    :param get_gradient_coeff: get gradiend coeff by epoch index\n",
    "    :param batch_size: batch size :)\n",
    "    :param max_iteration_count: max iteration count :)\n",
    "    :param seed: seed for random generation\n",
    "\n",
    "    :returns: vector of weights, last value --- intercept value\n",
    "    \"\"\"\n",
    "\n",
    "    n = len(X_sample)\n",
    "    X_with_ones = np.append(\n",
    "        X_sample,\n",
    "        np.ones((n, 1)),\n",
    "        axis=1\n",
    "    )\n",
    "    np.random.seed(seed)\n",
    "    random.seed(seed)\n",
    "    w_previous = None\n",
    "    w = np.random.rand(X_with_ones.shape[1])\n",
    "    n_batches = math.ceil(n \/ batch_size)\n",
    "\n",
    "    k = 1\n",
    "    while w_previous is None or (np.linalg.norm(w - w_previous) > norm_difference and k < max_iteration_count):\n",
    "        w_previous = w.copy()\n",
    "        if solver == 'batch':\n",
    "            w -= 2 * get_gradient_coeff(k) * (\n",
    "                        -1 \/ n * (X_with_ones.transpose() @ (y_sample - X_with_ones @ w)) + alpha * w)\n",
    "        elif solver == 'mini-batch':\n",
    "            batch_index = (k - 1) % n_batches\n",
    "            batch_slice = slice(batch_index * batch_size, (batch_size + 1) * batch_size)\n",
    "            X_batch = X_with_ones[batch_slice]\n",
    "            y_batch = y_sample[batch_slice]\n",
    "            w -= 2 * get_gradient_coeff(k) * (-1 \/ n * (X_batch.transpose() @ (y_batch - X_batch @ w)) + alpha * w)\n",
    "        else:  # solver == 'stoch'\n",
    "            random_index = random.randint(0, n - 1)\n",
    "            X_item = X_with_ones[random_index]\n",
    "            y_item = y_sample[random_index]\n",
    "            w -= 2 * get_gradient_coeff(k) * (-(y_item - X_item @ w) * X_item + alpha * w)\n",
    "        k += 1\n",
    "    return w\n",
    "\n",
    "\n",
    "def predict(X_sample, model_weights):\n",
    "    return np.append(\n",
    "        X_sample,\n",
    "        np.ones((len(X_sample), 1)),\n",
    "        axis=1\n",
    "    ) @ model_weights"
   ],
   "execution_count":184,
   "outputs":[
    
   ],
   "metadata":{
    "datalore":{
     "node_id":"5UH75Mjg78zWk5vCq3P5wA",
     "type":"CODE",
     "hide_input_from_viewers":true,
     "hide_output_from_viewers":true
    }
   }
  },
  {
   "cell_type":"markdown",
   "source":[
    "### Посмотрим, работает ли он"
   ],
   "attachments":{
    
   },
   "metadata":{
    "datalore":{
     "node_id":"abi3TcvjBkxXlwj8SJM4hK",
     "type":"MD",
     "hide_input_from_viewers":true,
     "hide_output_from_viewers":true
    }
   }
  },
  {
   "cell_type":"code",
   "source":[
    "X = np.linspace(0.01, 0.98, num=100)\n",
    "y = 2.3 * X + 0.56\n",
    "y_noised = y + np.random.normal(0, 0.1, 100)\n",
    "print('real w: [2.3, 0.56]')\n",
    "print()\n",
    "\n",
    "print('---- My model ----')\n",
    "print(f'Y without noise, alpha = 0: w = {gradient_descent(X.reshape((100, 1)), y, alpha=0)}')\n",
    "print(f'Y with noise, alpha = 0: w = {gradient_descent(X.reshape((100, 1)), y_noised, alpha=0)}')\n",
    "print(f'Y with noise, alpha = 0.01: w = {gradient_descent(X.reshape((100, 1)), y_noised, alpha=1e-2)}')\n",
    "print(f'Y with noise, alpha = 0.001, solver = batch: w = {gradient_descent(X.reshape((100, 1)), y_noised, alpha=1e-3)}')\n",
    "print(\n",
    "    f'Y with noise, alpha = 0.001, solver = mini-batch: w = {gradient_descent(X.reshape((100, 1)), y_noised, alpha=1e-3, solver=\"mini-batch\")}')\n",
    "print(\n",
    "    f'Y with noise, alpha = 0.001, solver = stoch: w = {gradient_descent(X.reshape((100, 1)), y_noised, alpha=1e-3, solver=\"stoch\")}')\n",
    "\n",
    "print()\n",
    "print('---- From Sklearn ----')\n",
    "clf = Ridge(alpha=1)\n",
    "clf.fit(X.reshape((100, 1)), y)\n",
    "print(f'Y with noise, alpha = 1: w = [{clf.coef_[0]}, {clf.intercept_}]')\n",
    "\n",
    "clf = Ridge(alpha=0.01)\n",
    "clf.fit(X.reshape((100, 1)), y)\n",
    "print(f'Y with noise, alpha = 0.01: w = [{clf.coef_[0]}, {clf.intercept_}]')"
   ],
   "execution_count":185,
   "outputs":[
    {
     "name":"stdout",
     "text":[
      "real w: [2.3, 0.56]\n",
      "\n",
      "---- My model ----\n",
      "Y without noise, alpha = 0: w = [2.29976074 0.56012645]\n",
      "Y with noise, alpha = 0: w = [2.29752153 0.56186958]\n",
      "Y with noise, alpha = 0.01: w = [2.07874333 0.6635285 ]\n",
      "Y with noise, alpha = 0.001, solver = batch: w = [2.27266374 0.57360046]\n",
      "Y with noise, alpha = 0.001, solver = mini-batch: w = [2.27266374 0.57360046]\n",
      "Y with noise, alpha = 0.001, solver = stoch: w = [2.25868217 0.57752082]\n",
      "\n",
      "---- From Sklearn ----\n",
      "Y with noise, alpha = 1: w = [2.044422692167029, 0.6865107673773205]\n",
      "Y with noise, alpha = 0.01: w = [2.2971283146452377, 0.5614214842506071]\n"
     ],
     "output_type":"stream"
    }
   ],
   "metadata":{
    "datalore":{
     "node_id":"pyMHlrqneYKEo14fOewHcq",
     "type":"CODE",
     "hide_input_from_viewers":true,
     "hide_output_from_viewers":true
    }
   }
  },
  {
   "cell_type":"markdown",
   "source":[
    "* Все работает)\n",
    "* Убеждаемся, что от коэффициента регуляризации $\\alpha$ может сильно зависеть ответ, подбирать его нужно осторожно "
   ],
   "attachments":{
    
   },
   "metadata":{
    "datalore":{
     "node_id":"wURWiUuapHH1oWcHTqDhvx",
     "type":"MD",
     "hide_input_from_viewers":true,
     "hide_output_from_viewers":true
    }
   }
  },
  {
   "cell_type":"markdown",
   "source":[
    "\n",
    "[✔️] Самостоятельно реализовать функцию gradient_descent(X, y), которая по заданной обучающей выборке обучает модель линейной регрессии, оптимизируя функционал методом градиентного спуска (Batch Gradient Descent, GD) и возвращая вектор весов w. В качестве функционала можно выбрать, например, функцию ошибок MSE + L2-регуляризатор. Использовать матрично-векторные операции для вычисления градиента.\n",
    "\n",
    "[✔️] (+1 балл) Также самостоятельно реализовать метод стохастического градиентного спуска (Stochastic Gradient Descent, SGD), обучить модели и добавить их во все сравнения.\n",
    "\n",
    "[✔️] (+1 балл) Также самостоятельно реализовать метод мини-пакетного градиентного спуска (Mini Batch Gradient Descent), обучить модели и добавить их во все сравнения."
   ],
   "attachments":{
    
   },
   "metadata":{
    "datalore":{
     "node_id":"J73MOluxPOqfsJR8sT5BCa",
     "type":"MD",
     "hide_input_from_viewers":true,
     "hide_output_from_viewers":true
    }
   }
  },
  {
   "cell_type":"markdown",
   "source":[
    "## Обратно к нашим магазинам"
   ],
   "attachments":{
    
   },
   "metadata":{
    "datalore":{
     "node_id":"qEXYQ413ttXG6ATuPyj4xW",
     "type":"MD",
     "hide_input_from_viewers":true,
     "hide_output_from_viewers":true
    }
   }
  },
  {
   "cell_type":"markdown",
   "source":[
    "### Применим унитарное кодирование категориальных признаков "
   ],
   "attachments":{
    
   },
   "metadata":{
    "datalore":{
     "node_id":"FyBv0RDhStYs9DqtOAZFiR",
     "type":"MD",
     "hide_input_from_viewers":true,
     "hide_output_from_viewers":true
    }
   }
  },
  {
   "cell_type":"code",
   "source":[
    "df_to_lr = pd.get_dummies(df)\n",
    "df_to_lr.drop(columns=['Store_1', 'Holiday_Flag_0', 'Week_1', 'Month_1', 'Year_2010'], inplace=True)\n",
    "df_to_lr"
   ],
   "execution_count":186,
   "outputs":[
    {
     "data":{
      "text\/html":[
       "<div>\n",
       "<style scoped>\n",
       "    .dataframe tbody tr th:only-of-type {\n",
       "        vertical-align: middle;\n",
       "    }\n",
       "\n",
       "    .dataframe tbody tr th {\n",
       "        vertical-align: top;\n",
       "    }\n",
       "\n",
       "    .dataframe thead th {\n",
       "        text-align: right;\n",
       "    }\n",
       "<\/style>\n",
       "<table border=\"1\" class=\"dataframe\">\n",
       "  <thead>\n",
       "    <tr style=\"text-align: right;\">\n",
       "      <th><\/th>\n",
       "      <th>Weekly_Sales<\/th>\n",
       "      <th>Temperature<\/th>\n",
       "      <th>Fuel_Price<\/th>\n",
       "      <th>CPI<\/th>\n",
       "      <th>Unemployment<\/th>\n",
       "      <th>Store_2<\/th>\n",
       "      <th>Store_3<\/th>\n",
       "      <th>Store_4<\/th>\n",
       "      <th>Store_5<\/th>\n",
       "      <th>Store_6<\/th>\n",
       "      <th>...<\/th>\n",
       "      <th>Month_5<\/th>\n",
       "      <th>Month_6<\/th>\n",
       "      <th>Month_7<\/th>\n",
       "      <th>Month_8<\/th>\n",
       "      <th>Month_9<\/th>\n",
       "      <th>Month_10<\/th>\n",
       "      <th>Month_11<\/th>\n",
       "      <th>Month_12<\/th>\n",
       "      <th>Year_2011<\/th>\n",
       "      <th>Year_2012<\/th>\n",
       "    <\/tr>\n",
       "  <\/thead>\n",
       "  <tbody>\n",
       "    <tr>\n",
       "      <th>0<\/th>\n",
       "      <td>1643690.90<\/td>\n",
       "      <td>42.31<\/td>\n",
       "      <td>2.572<\/td>\n",
       "      <td>211.096358<\/td>\n",
       "      <td>8.106<\/td>\n",
       "      <td>0<\/td>\n",
       "      <td>0<\/td>\n",
       "      <td>0<\/td>\n",
       "      <td>0<\/td>\n",
       "      <td>0<\/td>\n",
       "      <td>...<\/td>\n",
       "      <td>0<\/td>\n",
       "      <td>0<\/td>\n",
       "      <td>0<\/td>\n",
       "      <td>0<\/td>\n",
       "      <td>0<\/td>\n",
       "      <td>0<\/td>\n",
       "      <td>0<\/td>\n",
       "      <td>0<\/td>\n",
       "      <td>0<\/td>\n",
       "      <td>0<\/td>\n",
       "    <\/tr>\n",
       "    <tr>\n",
       "      <th>1<\/th>\n",
       "      <td>1641957.44<\/td>\n",
       "      <td>38.51<\/td>\n",
       "      <td>2.548<\/td>\n",
       "      <td>211.242170<\/td>\n",
       "      <td>8.106<\/td>\n",
       "      <td>0<\/td>\n",
       "      <td>0<\/td>\n",
       "      <td>0<\/td>\n",
       "      <td>0<\/td>\n",
       "      <td>0<\/td>\n",
       "      <td>...<\/td>\n",
       "      <td>0<\/td>\n",
       "      <td>0<\/td>\n",
       "      <td>0<\/td>\n",
       "      <td>0<\/td>\n",
       "      <td>0<\/td>\n",
       "      <td>0<\/td>\n",
       "      <td>0<\/td>\n",
       "      <td>0<\/td>\n",
       "      <td>0<\/td>\n",
       "      <td>0<\/td>\n",
       "    <\/tr>\n",
       "    <tr>\n",
       "      <th>2<\/th>\n",
       "      <td>1611968.17<\/td>\n",
       "      <td>39.93<\/td>\n",
       "      <td>2.514<\/td>\n",
       "      <td>211.289143<\/td>\n",
       "      <td>8.106<\/td>\n",
       "      <td>0<\/td>\n",
       "      <td>0<\/td>\n",
       "      <td>0<\/td>\n",
       "      <td>0<\/td>\n",
       "      <td>0<\/td>\n",
       "      <td>...<\/td>\n",
       "      <td>0<\/td>\n",
       "      <td>0<\/td>\n",
       "      <td>0<\/td>\n",
       "      <td>0<\/td>\n",
       "      <td>0<\/td>\n",
       "      <td>0<\/td>\n",
       "      <td>0<\/td>\n",
       "      <td>0<\/td>\n",
       "      <td>0<\/td>\n",
       "      <td>0<\/td>\n",
       "    <\/tr>\n",
       "    <tr>\n",
       "      <th>3<\/th>\n",
       "      <td>1409727.59<\/td>\n",
       "      <td>46.63<\/td>\n",
       "      <td>2.561<\/td>\n",
       "      <td>211.319643<\/td>\n",
       "      <td>8.106<\/td>\n",
       "      <td>0<\/td>\n",
       "      <td>0<\/td>\n",
       "      <td>0<\/td>\n",
       "      <td>0<\/td>\n",
       "      <td>0<\/td>\n",
       "      <td>...<\/td>\n",
       "      <td>0<\/td>\n",
       "      <td>0<\/td>\n",
       "      <td>0<\/td>\n",
       "      <td>0<\/td>\n",
       "      <td>0<\/td>\n",
       "      <td>0<\/td>\n",
       "      <td>0<\/td>\n",
       "      <td>0<\/td>\n",
       "      <td>0<\/td>\n",
       "      <td>0<\/td>\n",
       "    <\/tr>\n",
       "    <tr>\n",
       "      <th>4<\/th>\n",
       "      <td>1554806.68<\/td>\n",
       "      <td>46.50<\/td>\n",
       "      <td>2.625<\/td>\n",
       "      <td>211.350143<\/td>\n",
       "      <td>8.106<\/td>\n",
       "      <td>0<\/td>\n",
       "      <td>0<\/td>\n",
       "      <td>0<\/td>\n",
       "      <td>0<\/td>\n",
       "      <td>0<\/td>\n",
       "      <td>...<\/td>\n",
       "      <td>0<\/td>\n",
       "      <td>0<\/td>\n",
       "      <td>0<\/td>\n",
       "      <td>0<\/td>\n",
       "      <td>0<\/td>\n",
       "      <td>0<\/td>\n",
       "      <td>0<\/td>\n",
       "      <td>0<\/td>\n",
       "      <td>0<\/td>\n",
       "      <td>0<\/td>\n",
       "    <\/tr>\n",
       "    <tr>\n",
       "      <th>...<\/th>\n",
       "      <td>...<\/td>\n",
       "      <td>...<\/td>\n",
       "      <td>...<\/td>\n",
       "      <td>...<\/td>\n",
       "      <td>...<\/td>\n",
       "      <td>...<\/td>\n",
       "      <td>...<\/td>\n",
       "      <td>...<\/td>\n",
       "      <td>...<\/td>\n",
       "      <td>...<\/td>\n",
       "      <td>...<\/td>\n",
       "      <td>...<\/td>\n",
       "      <td>...<\/td>\n",
       "      <td>...<\/td>\n",
       "      <td>...<\/td>\n",
       "      <td>...<\/td>\n",
       "      <td>...<\/td>\n",
       "      <td>...<\/td>\n",
       "      <td>...<\/td>\n",
       "      <td>...<\/td>\n",
       "      <td>...<\/td>\n",
       "    <\/tr>\n",
       "    <tr>\n",
       "      <th>6430<\/th>\n",
       "      <td>713173.95<\/td>\n",
       "      <td>64.88<\/td>\n",
       "      <td>3.997<\/td>\n",
       "      <td>192.013558<\/td>\n",
       "      <td>8.684<\/td>\n",
       "      <td>0<\/td>\n",
       "      <td>0<\/td>\n",
       "      <td>0<\/td>\n",
       "      <td>0<\/td>\n",
       "      <td>0<\/td>\n",
       "      <td>...<\/td>\n",
       "      <td>0<\/td>\n",
       "      <td>0<\/td>\n",
       "      <td>0<\/td>\n",
       "      <td>0<\/td>\n",
       "      <td>1<\/td>\n",
       "      <td>0<\/td>\n",
       "      <td>0<\/td>\n",
       "      <td>0<\/td>\n",
       "      <td>0<\/td>\n",
       "      <td>1<\/td>\n",
       "    <\/tr>\n",
       "    <tr>\n",
       "      <th>6431<\/th>\n",
       "      <td>733455.07<\/td>\n",
       "      <td>64.89<\/td>\n",
       "      <td>3.985<\/td>\n",
       "      <td>192.170412<\/td>\n",
       "      <td>8.667<\/td>\n",
       "      <td>0<\/td>\n",
       "      <td>0<\/td>\n",
       "      <td>0<\/td>\n",
       "      <td>0<\/td>\n",
       "      <td>0<\/td>\n",
       "      <td>...<\/td>\n",
       "      <td>0<\/td>\n",
       "      <td>0<\/td>\n",
       "      <td>0<\/td>\n",
       "      <td>0<\/td>\n",
       "      <td>0<\/td>\n",
       "      <td>1<\/td>\n",
       "      <td>0<\/td>\n",
       "      <td>0<\/td>\n",
       "      <td>0<\/td>\n",
       "      <td>1<\/td>\n",
       "    <\/tr>\n",
       "    <tr>\n",
       "      <th>6432<\/th>\n",
       "      <td>734464.36<\/td>\n",
       "      <td>54.47<\/td>\n",
       "      <td>4.000<\/td>\n",
       "      <td>192.327265<\/td>\n",
       "      <td>8.667<\/td>\n",
       "      <td>0<\/td>\n",
       "      <td>0<\/td>\n",
       "      <td>0<\/td>\n",
       "      <td>0<\/td>\n",
       "      <td>0<\/td>\n",
       "      <td>...<\/td>\n",
       "      <td>0<\/td>\n",
       "      <td>0<\/td>\n",
       "      <td>0<\/td>\n",
       "      <td>0<\/td>\n",
       "      <td>0<\/td>\n",
       "      <td>1<\/td>\n",
       "      <td>0<\/td>\n",
       "      <td>0<\/td>\n",
       "      <td>0<\/td>\n",
       "      <td>1<\/td>\n",
       "    <\/tr>\n",
       "    <tr>\n",
       "      <th>6433<\/th>\n",
       "      <td>718125.53<\/td>\n",
       "      <td>56.47<\/td>\n",
       "      <td>3.969<\/td>\n",
       "      <td>192.330854<\/td>\n",
       "      <td>8.667<\/td>\n",
       "      <td>0<\/td>\n",
       "      <td>0<\/td>\n",
       "      <td>0<\/td>\n",
       "      <td>0<\/td>\n",
       "      <td>0<\/td>\n",
       "      <td>...<\/td>\n",
       "      <td>0<\/td>\n",
       "      <td>0<\/td>\n",
       "      <td>0<\/td>\n",
       "      <td>0<\/td>\n",
       "      <td>0<\/td>\n",
       "      <td>1<\/td>\n",
       "      <td>0<\/td>\n",
       "      <td>0<\/td>\n",
       "      <td>0<\/td>\n",
       "      <td>1<\/td>\n",
       "    <\/tr>\n",
       "    <tr>\n",
       "      <th>6434<\/th>\n",
       "      <td>760281.43<\/td>\n",
       "      <td>58.85<\/td>\n",
       "      <td>3.882<\/td>\n",
       "      <td>192.308899<\/td>\n",
       "      <td>8.667<\/td>\n",
       "      <td>0<\/td>\n",
       "      <td>0<\/td>\n",
       "      <td>0<\/td>\n",
       "      <td>0<\/td>\n",
       "      <td>0<\/td>\n",
       "      <td>...<\/td>\n",
       "      <td>0<\/td>\n",
       "      <td>0<\/td>\n",
       "      <td>0<\/td>\n",
       "      <td>0<\/td>\n",
       "      <td>0<\/td>\n",
       "      <td>1<\/td>\n",
       "      <td>0<\/td>\n",
       "      <td>0<\/td>\n",
       "      <td>0<\/td>\n",
       "      <td>1<\/td>\n",
       "    <\/tr>\n",
       "  <\/tbody>\n",
       "<\/table>\n",
       "<p>6435 rows × 67 columns<\/p>\n",
       "<\/div>"
      ]
     },
     "metadata":{
      
     },
     "output_type":"display_data"
    }
   ],
   "metadata":{
    "datalore":{
     "node_id":"ouNuoDAvEQC8dFePbbCbji",
     "type":"CODE",
     "hide_input_from_viewers":true,
     "hide_output_from_viewers":true
    }
   }
  },
  {
   "cell_type":"markdown",
   "source":[
    "### Разделим данные на тестовую и обучающую выборки"
   ],
   "attachments":{
    
   },
   "metadata":{
    "datalore":{
     "node_id":"Ojq61g3IF5W5hQfWj1nq2M",
     "type":"MD",
     "hide_input_from_viewers":true,
     "hide_output_from_viewers":true
    }
   }
  },
  {
   "cell_type":"code",
   "source":[
    "X = df_to_lr.drop(columns=[\"Weekly_Sales\"])\n",
    "y = df_to_lr[\"Weekly_Sales\"]\n",
    "\n",
    "X_train, X_test, y_train, y_test = train_test_split(X, y, test_size=0.3, random_state=666)"
   ],
   "execution_count":187,
   "outputs":[
    
   ],
   "metadata":{
    "datalore":{
     "node_id":"wckoiJ9KrrkVPXwvGP6Q7f",
     "type":"CODE",
     "hide_input_from_viewers":true,
     "hide_output_from_viewers":true
    }
   }
  },
  {
   "cell_type":"markdown",
   "source":[
    "### Масштабируем данные"
   ],
   "attachments":{
    
   },
   "metadata":{
    "datalore":{
     "node_id":"X4dHRp0vEZLrnMTwGqmc4e",
     "type":"MD",
     "hide_input_from_viewers":true,
     "hide_output_from_viewers":true
    }
   }
  },
  {
   "cell_type":"code",
   "source":[
    "scaler = StandardScaler()\n",
    "X_train_scaled = scaler.fit_transform(X_train)\n",
    "X_test_scaled = scaler.transform(X_test)"
   ],
   "execution_count":188,
   "outputs":[
    
   ],
   "metadata":{
    "datalore":{
     "node_id":"ZNuliXNeLmY4pr3kyNfRZf",
     "type":"CODE",
     "hide_input_from_viewers":true,
     "hide_output_from_viewers":true
    }
   }
  },
  {
   "cell_type":"markdown",
   "source":[
    "### Псмотрим на корреляцию признаков"
   ],
   "attachments":{
    
   },
   "metadata":{
    "datalore":{
     "node_id":"ti3YNCTcx6Y33X9KCiWo9N",
     "type":"MD",
     "hide_input_from_viewers":true,
     "hide_output_from_viewers":true
    }
   }
  },
  {
   "cell_type":"code",
   "source":[
    "sns.heatmap(df_to_lr.corr(), annot=False, vmin=-1, vmax=1, center=0);"
   ],
   "execution_count":189,
   "outputs":[
    {
     "data":{
      "image\/png":"[encoded data removed]"
     },
     "metadata":{
      "image\/png":{
       
      }
     },
     "output_type":"display_data"
    }
   ],
   "metadata":{
    "datalore":{
     "node_id":"eIqtEQFDfwXfe9RVivy9bt",
     "type":"CODE",
     "hide_input_from_viewers":true,
     "hide_output_from_viewers":true
    }
   }
  },
  {
   "cell_type":"markdown",
   "source":[
    "Кажется, что особо сильно корреляции, которая бы ухудшила предсказания модели, нет. Посмотрим на нее после выбора признаков в конце, сейчас оставим так, как есть."
   ],
   "attachments":{
    
   },
   "metadata":{
    "datalore":{
     "node_id":"MRR7tgw2IFiGAiYYilbFBF",
     "type":"MD",
     "hide_input_from_viewers":true,
     "hide_output_from_viewers":true
    }
   }
  },
  {
   "cell_type":"markdown",
   "source":[
    "### Обучаем на нашей модели"
   ],
   "attachments":{
    
   },
   "metadata":{
    "datalore":{
     "node_id":"H3vtFyDaUUB4wpY3L5sfis",
     "type":"MD",
     "hide_input_from_viewers":true,
     "hide_output_from_viewers":true
    }
   }
  },
  {
   "cell_type":"markdown",
   "source":[
    "Реализуем свой подбор гиперпараметров (по MSE)"
   ],
   "attachments":{
    
   },
   "metadata":{
    "datalore":{
     "node_id":"3MhqaHCs0z2LzrO4h2Lmet",
     "type":"MD",
     "hide_input_from_viewers":true,
     "hide_output_from_viewers":true
    }
   }
  },
  {
   "cell_type":"code",
   "source":[
    "alphas = np.logspace(-4, 1, 6)\n",
    "gradient_coeff_functions = (\n",
    "    {'name': '1\/x', 'function': lambda x: x ** -1},\n",
    "    {'name': '1\/sqrt(x)', 'function': lambda x: x ** -0.5}\n",
    ")\n",
    "solvers = ('batch', 'mini-batch', 'stoch')\n",
    "\n",
    "results = []\n",
    "for alpha, gradient_coeff_function, solver in product(alphas, gradient_coeff_functions, solvers):\n",
    "    weights = gradient_descent(\n",
    "        X_train_scaled,\n",
    "        y_train.to_numpy(),\n",
    "        alpha=alpha,\n",
    "        get_gradient_coeff=gradient_coeff_function['function'],\n",
    "        solver=solver,\n",
    "        max_iteration_count=1e5 if solver == 'stoch' else 1.5e4,\n",
    "    )\n",
    "    y_test_pred = predict(X_test_scaled, weights)\n",
    "    current_rmse = mean_squared_error(y_test_pred, y_test, squared=False)\n",
    "    print(f\"alpha = {alpha}, gradient_coeff = {gradient_coeff_function['name']}, solver={solver}. RMSE: {current_rmse}\")\n",
    "    results.append(\n",
    "        (current_rmse, (alpha, gradient_coeff_function, solver))\n",
    "    )\n",
    "\n",
    "print()\n",
    "print('----- Min RMSE -----')\n",
    "min_rmse, (alpha, gradient_coeff_function, solver) = min(results, key=lambda x: x[0])\n",
    "print(f'alpha = {alpha}, gradient_coeff = {gradient_coeff_function[\"name\"]}, solver={solver}')\n",
    "print(f'RMSE: {min_rmse}')"
   ],
   "execution_count":190,
   "outputs":[
    {
     "name":"stdout",
     "text":[
      "alpha = 0.0001, gradient_coeff = 1\/x, solver=batch. RMSE: 128480.42045071474\n",
      "alpha = 0.0001, gradient_coeff = 1\/x, solver=mini-batch. RMSE: 132346.00183855908\n",
      "alpha = 0.0001, gradient_coeff = 1\/x, solver=stoch. RMSE: 1179875251.6847963\n",
      "alpha = 0.0001, gradient_coeff = 1\/sqrt(x), solver=batch. RMSE: 123476.43467603243\n",
      "alpha = 0.0001, gradient_coeff = 1\/sqrt(x), solver=mini-batch. RMSE: 123875.95089621571\n",
      "alpha = 0.0001, gradient_coeff = 1\/sqrt(x), solver=stoch. RMSE: 2.823342725906376e+102\n",
      "alpha = 0.001, gradient_coeff = 1\/x, solver=batch. RMSE: 128517.14783221397\n",
      "alpha = 0.001, gradient_coeff = 1\/x, solver=mini-batch. RMSE: 132330.68818168656\n",
      "alpha = 0.001, gradient_coeff = 1\/x, solver=stoch. RMSE: 1158705166.7712317\n",
      "alpha = 0.001, gradient_coeff = 1\/sqrt(x), solver=batch. RMSE: 123431.99693209703\n",
      "alpha = 0.001, gradient_coeff = 1\/sqrt(x), solver=mini-batch. RMSE: 123813.78864466035\n",
      "alpha = 0.001, gradient_coeff = 1\/sqrt(x), solver=stoch. RMSE: 9.541378807333947e+101\n",
      "alpha = 0.01, gradient_coeff = 1\/x, solver=batch. RMSE: 129359.90919574033\n",
      "alpha = 0.01, gradient_coeff = 1\/x, solver=mini-batch. RMSE: 133938.42194566064\n",
      "alpha = 0.01, gradient_coeff = 1\/x, solver=stoch. RMSE: 966756976.5411978\n",
      "alpha = 0.01, gradient_coeff = 1\/sqrt(x), solver=batch. RMSE: 124421.35732467368\n",
      "alpha = 0.01, gradient_coeff = 1\/sqrt(x), solver=mini-batch. RMSE: 127316.82758355273\n",
      "alpha = 0.01, gradient_coeff = 1\/sqrt(x), solver=stoch. RMSE: 1.8427405278770063e+97\n",
      "alpha = 0.1, gradient_coeff = 1\/x, solver=batch. RMSE: 168928.6636180414\n",
      "alpha = 0.1, gradient_coeff = 1\/x, solver=mini-batch. RMSE: 232966.83512047984\n",
      "alpha = 0.1, gradient_coeff = 1\/x, solver=stoch. RMSE: 157126360.44852537\n",
      "alpha = 0.1, gradient_coeff = 1\/sqrt(x), solver=batch. RMSE: 168526.87744207453\n",
      "alpha = 0.1, gradient_coeff = 1\/sqrt(x), solver=mini-batch. RMSE: 239074.9439577763\n",
      "alpha = 0.1, gradient_coeff = 1\/sqrt(x), solver=stoch. RMSE: 8.280809921345274e+49\n",
      "alpha = 1.0, gradient_coeff = 1\/x, solver=batch. RMSE: 596480.1053394969\n",
      "alpha = 1.0, gradient_coeff = 1\/x, solver=mini-batch. RMSE: 786144.3130080936\n",
      "alpha = 1.0, gradient_coeff = 1\/x, solver=stoch. RMSE: 597691.7207737266\n",
      "alpha = 1.0, gradient_coeff = 1\/sqrt(x), solver=batch. RMSE: 596480.105322457\n",
      "alpha = 1.0, gradient_coeff = 1\/sqrt(x), solver=mini-batch. RMSE: 814140.5860597792\n",
      "alpha = 1.0, gradient_coeff = 1\/sqrt(x), solver=stoch. RMSE: 712964.1213529402\n",
      "alpha = 10.0, gradient_coeff = 1\/x, solver=batch. RMSE: 1069939.201518564\n",
      "alpha = 10.0, gradient_coeff = 1\/x, solver=mini-batch. RMSE: 1120654.5095401767\n",
      "alpha = 10.0, gradient_coeff = 1\/x, solver=stoch. RMSE: 1071023.7377684494\n",
      "alpha = 10.0, gradient_coeff = 1\/sqrt(x), solver=batch. RMSE: 1069939.2015185228\n",
      "alpha = 10.0, gradient_coeff = 1\/sqrt(x), solver=mini-batch. RMSE: 1122550.415952253\n",
      "alpha = 10.0, gradient_coeff = 1\/sqrt(x), solver=stoch. RMSE: 1112351.7573597927\n",
      "\n",
      "----- Min RMSE -----\n",
      "alpha = 0.001, gradient_coeff = 1\/sqrt(x), solver=batch\n",
      "RMSE: 123431.99693209703\n"
     ],
     "output_type":"stream"
    }
   ],
   "metadata":{
    "datalore":{
     "node_id":"rYeXrj9ROMp0aeCMPQiKso",
     "type":"CODE",
     "hide_input_from_viewers":true,
     "hide_output_from_viewers":true
    }
   }
  },
  {
   "cell_type":"markdown",
   "source":[
    "* В целом, логично, что лучшую оценку показал `batch`, он максимально точно ищет направление антиградиента\n",
    "* Посмотрим на другие оценки лучшей модели"
   ],
   "attachments":{
    
   },
   "metadata":{
    "datalore":{
     "node_id":"s8S0m2ont864btzUlH7vGD",
     "type":"MD",
     "hide_input_from_viewers":true,
     "hide_output_from_viewers":true
    }
   }
  },
  {
   "cell_type":"code",
   "source":[
    "_, (alpha, gradient_coeff_function, solver) = min(results, key=lambda x: x[0])\n",
    "weights = gradient_descent(\n",
    "    X_train_scaled,\n",
    "    y_train.to_numpy(),\n",
    "    alpha=alpha,\n",
    "    get_gradient_coeff=gradient_coeff_function['function'],\n",
    "    solver=solver\n",
    ")\n",
    "y_test_pred = predict(X_test_scaled, weights)\n",
    "print('--- Best model scores ---')\n",
    "print(f\"Model: alpha = {alpha}, gradient_coeff = {gradient_coeff_function['name']}, solver={solver}\")\n",
    "print(f\"MSE: {mean_squared_error(y_test_pred, y_test)}\")\n",
    "print(f\"RMSE: {mean_squared_error(y_test_pred, y_test, squared=False)}\")\n",
    "print(f\"R^2: {r2_score(y_test_pred, y_test)}\")"
   ],
   "execution_count":191,
   "outputs":[
    {
     "name":"stdout",
     "text":[
      "--- Best model scores ---\n",
      "Model: alpha = 0.001, gradient_coeff = 1\/sqrt(x), solver=batch\n",
      "MSE: 15235457866.645208\n",
      "RMSE: 123431.99693209703\n",
      "R^2: 0.9496290815434828\n"
     ],
     "output_type":"stream"
    }
   ],
   "metadata":{
    "datalore":{
     "node_id":"a6Z4ygYfwF0R1OoMinW9YH",
     "type":"CODE",
     "hide_input_from_viewers":true,
     "hide_output_from_viewers":true
    }
   }
  },
  {
   "cell_type":"markdown",
   "source":[
    "Неплохо)"
   ],
   "attachments":{
    
   },
   "metadata":{
    "datalore":{
     "node_id":"Y28ZfvliKLlxg7aOy5tsS6",
     "type":"MD",
     "hide_input_from_viewers":true,
     "hide_output_from_viewers":true
    }
   }
  },
  {
   "cell_type":"markdown",
   "source":[
    "### Обучаем на модели из Sklearn"
   ],
   "attachments":{
    
   },
   "metadata":{
    "datalore":{
     "node_id":"UkhN0yAMaAEXMfntkYzZta",
     "type":"MD",
     "hide_input_from_viewers":true,
     "hide_output_from_viewers":true
    }
   }
  },
  {
   "cell_type":"code",
   "source":[
    "alpha_grid = np.logspace(-4, 1, 6)\n",
    "searcher = GridSearchCV(\n",
    "    Ridge(),\n",
    "    [{\"alpha\": alpha_grid}],\n",
    "    scoring=\"neg_root_mean_squared_error\",\n",
    "    cv=5\n",
    ")\n",
    "searcher.fit(X_train_scaled, y_train)\n",
    "\n",
    "plt.plot(alpha_grid, -searcher.cv_results_[\"mean_test_score\"])\n",
    "plt.xscale(\"log\")\n",
    "plt.xlabel(\"alpha\")\n",
    "plt.ylabel(\"CV score\")"
   ],
   "execution_count":192,
   "outputs":[
    {
     "data":{
      "text\/plain":[
       "Text(0, 0.5, 'CV score')"
      ]
     },
     "metadata":{
      
     },
     "output_type":"display_data"
    },
    {
     "data":{
      "image\/png":"[encoded data removed]"
     },
     "metadata":{
      "image\/png":{
       
      }
     },
     "output_type":"display_data"
    }
   ],
   "metadata":{
    "datalore":{
     "node_id":"Ia4De9WxraQRYwh0jDZqnA",
     "type":"CODE",
     "hide_input_from_viewers":true,
     "hide_output_from_viewers":true
    }
   }
  },
  {
   "cell_type":"code",
   "source":[
    "best_alpha = searcher.best_params_[\"alpha\"]\n",
    "print(f\"Best alpha = {best_alpha:.4f}\")"
   ],
   "execution_count":193,
   "outputs":[
    {
     "name":"stdout",
     "text":[
      "Best alpha = 1.0000\n"
     ],
     "output_type":"stream"
    }
   ],
   "metadata":{
    "datalore":{
     "node_id":"gljR2UmKexfX6K4w4IiGIZ",
     "type":"CODE",
     "hide_input_from_viewers":true,
     "hide_output_from_viewers":true
    }
   }
  },
  {
   "cell_type":"code",
   "source":[
    "best_sklearn_model = Ridge(alpha=best_alpha)\n",
    "best_sklearn_model.fit(X_train_scaled, y_train)\n",
    "y_test_pred = best_sklearn_model.predict(X_test_scaled)\n",
    "\n",
    "print('--- Best Sklearn model scores ---')\n",
    "print(f\"Model: alpha = {best_alpha}\")\n",
    "print(f\"MSE: {mean_squared_error(y_test_pred, y_test)}\")\n",
    "print(f\"RMSE: {mean_squared_error(y_test_pred, y_test, squared=False)}\")\n",
    "print(f\"R^2: {r2_score(y_test_pred, y_test)}\")"
   ],
   "execution_count":194,
   "outputs":[
    {
     "name":"stdout",
     "text":[
      "--- Best Sklearn model scores ---\n",
      "Model: alpha = 1.0\n",
      "MSE: 15247479421.589254\n",
      "RMSE: 123480.68440687092\n",
      "R^2: 0.9497056642906754\n"
     ],
     "output_type":"stream"
    }
   ],
   "metadata":{
    "datalore":{
     "node_id":"RZdYertKRXCOfjBfyotdsX",
     "type":"CODE",
     "hide_input_from_viewers":true,
     "hide_output_from_viewers":true
    }
   }
  },
  {
   "cell_type":"markdown",
   "source":[
    "* Практически идентичные результаты по сравнению с моей реализацией :)\n",
    "* Правда, параметр регуляризации $\\alpha$ получился другой, может это связано с разницей в функциях получения коэффициента $\\lambda_k$, стоящего около антиградиента 🤔 "
   ],
   "attachments":{
    
   },
   "metadata":{
    "datalore":{
     "node_id":"1Xt2WuUcPXSeNGqVagZQkX",
     "type":"MD",
     "hide_input_from_viewers":true,
     "hide_output_from_viewers":true
    }
   }
  },
  {
   "cell_type":"markdown",
   "source":[
    "### Используем кросс-валидацию"
   ],
   "attachments":{
    
   },
   "metadata":{
    "datalore":{
     "node_id":"X2qdH5WIy4I5PbpqKkxgnz",
     "type":"MD",
     "hide_input_from_viewers":true,
     "hide_output_from_viewers":true
    }
   }
  },
  {
   "cell_type":"markdown",
   "source":[
    "Ладно, тут уже не будем городить велосипед, сделаем свой `MyRidge` на основе `gradient_descent`"
   ],
   "attachments":{
    
   },
   "metadata":{
    "datalore":{
     "node_id":"HCgrQtDwEOybHjr8OfwE4S",
     "type":"MD",
     "hide_input_from_viewers":true,
     "hide_output_from_viewers":true
    }
   }
  },
  {
   "cell_type":"code",
   "source":[
    "class MyRidge(BaseEstimator):\n",
    "    def __init__(self, alpha=0.01, solver='batch'):\n",
    "        self.weights = None\n",
    "        self.alpha = alpha\n",
    "        self.solver = solver\n",
    "\n",
    "    def fit(self, X, y):\n",
    "        X, y = check_X_y(X, y)\n",
    "        self.weights = gradient_descent(X, y, alpha=self.alpha, solver=self.solver)\n",
    "        return self\n",
    "\n",
    "    def predict(self, X):\n",
    "        return predict(X, self.weights)"
   ],
   "execution_count":195,
   "outputs":[
    
   ],
   "metadata":{
    "datalore":{
     "node_id":"YAhVYjjKcsiWEXfHofgJUf",
     "type":"CODE",
     "hide_input_from_viewers":true,
     "hide_output_from_viewers":true
    }
   }
  },
  {
   "cell_type":"markdown",
   "source":[
    "#### Кросс-валидация для нашей модели"
   ],
   "attachments":{
    
   },
   "metadata":{
    "datalore":{
     "node_id":"NwACLI37rg5KbtZrykjwen",
     "type":"MD",
     "hide_input_from_viewers":true,
     "hide_output_from_viewers":true
    }
   }
  },
  {
   "cell_type":"code",
   "source":[
    "scores = cross_validate(\n",
    "    MyRidge(alpha=0.001),\n",
    "    X_train_scaled,\n",
    "    y_train,\n",
    "    cv=5,\n",
    "    scoring=('neg_root_mean_squared_error', 'neg_mean_squared_error', 'r2'),\n",
    "    return_train_score=True\n",
    ")\n",
    "\n",
    "scorings = [\n",
    "    'train_neg_mean_squared_error',\n",
    "    'test_neg_mean_squared_error',\n",
    "    'train_neg_root_mean_squared_error',\n",
    "    'test_neg_root_mean_squared_error',\n",
    "    'train_r2',\n",
    "    'test_r2',\n",
    "]\n",
    "\n",
    "cv_data = {\n",
    "    f'Fold{fold_index + 1}': [scores[scoring][fold_index] for scoring in scorings] \n",
    "    for fold_index in range(5)\n",
    "}\n",
    "cv_data['E'] = [np.mean(scores[scoring]) for scoring in scorings]\n",
    "cv_data['STD'] = [np.std(scores[scoring]) for scoring in scorings]\n",
    "pd.DataFrame(data=cv_data, index=['neg-mse-train', 'neg-mse-test', 'neg-rmse-train', 'neg-rmse-test', 'r2-train', 'r2-test'])"
   ],
   "execution_count":196,
   "outputs":[
    {
     "data":{
      "text\/html":[
       "<div>\n",
       "<style scoped>\n",
       "    .dataframe tbody tr th:only-of-type {\n",
       "        vertical-align: middle;\n",
       "    }\n",
       "\n",
       "    .dataframe tbody tr th {\n",
       "        vertical-align: top;\n",
       "    }\n",
       "\n",
       "    .dataframe thead th {\n",
       "        text-align: right;\n",
       "    }\n",
       "<\/style>\n",
       "<table border=\"1\" class=\"dataframe\">\n",
       "  <thead>\n",
       "    <tr style=\"text-align: right;\">\n",
       "      <th><\/th>\n",
       "      <th>Fold1<\/th>\n",
       "      <th>Fold2<\/th>\n",
       "      <th>Fold3<\/th>\n",
       "      <th>Fold4<\/th>\n",
       "      <th>Fold5<\/th>\n",
       "      <th>E<\/th>\n",
       "      <th>STD<\/th>\n",
       "    <\/tr>\n",
       "  <\/thead>\n",
       "  <tbody>\n",
       "    <tr>\n",
       "      <th>neg-mse-train<\/th>\n",
       "      <td>-2.048306e+10<\/td>\n",
       "      <td>-2.043978e+10<\/td>\n",
       "      <td>-1.985995e+10<\/td>\n",
       "      <td>-2.073996e+10<\/td>\n",
       "      <td>-2.177578e+10<\/td>\n",
       "      <td>-2.065971e+10<\/td>\n",
       "      <td>6.278905e+08<\/td>\n",
       "    <\/tr>\n",
       "    <tr>\n",
       "      <th>neg-mse-test<\/th>\n",
       "      <td>-2.188981e+10<\/td>\n",
       "      <td>-2.213749e+10<\/td>\n",
       "      <td>-2.473515e+10<\/td>\n",
       "      <td>-2.091987e+10<\/td>\n",
       "      <td>-1.671495e+10<\/td>\n",
       "      <td>-2.127945e+10<\/td>\n",
       "      <td>2.608241e+09<\/td>\n",
       "    <\/tr>\n",
       "    <tr>\n",
       "      <th>neg-rmse-train<\/th>\n",
       "      <td>-1.431191e+05<\/td>\n",
       "      <td>-1.429678e+05<\/td>\n",
       "      <td>-1.409254e+05<\/td>\n",
       "      <td>-1.440138e+05<\/td>\n",
       "      <td>-1.475662e+05<\/td>\n",
       "      <td>-1.437184e+05<\/td>\n",
       "      <td>2.173315e+03<\/td>\n",
       "    <\/tr>\n",
       "    <tr>\n",
       "      <th>neg-rmse-test<\/th>\n",
       "      <td>-1.479520e+05<\/td>\n",
       "      <td>-1.487867e+05<\/td>\n",
       "      <td>-1.572741e+05<\/td>\n",
       "      <td>-1.446370e+05<\/td>\n",
       "      <td>-1.292863e+05<\/td>\n",
       "      <td>-1.455873e+05<\/td>\n",
       "      <td>9.154623e+03<\/td>\n",
       "    <\/tr>\n",
       "    <tr>\n",
       "      <th>r2-train<\/th>\n",
       "      <td>9.362100e-01<\/td>\n",
       "      <td>9.368495e-01<\/td>\n",
       "      <td>9.377100e-01<\/td>\n",
       "      <td>9.359465e-01<\/td>\n",
       "      <td>9.330351e-01<\/td>\n",
       "      <td>9.359502e-01<\/td>\n",
       "      <td>1.579304e-03<\/td>\n",
       "    <\/tr>\n",
       "    <tr>\n",
       "      <th>r2-test<\/th>\n",
       "      <td>9.332214e-01<\/td>\n",
       "      <td>9.303718e-01<\/td>\n",
       "      <td>9.266636e-01<\/td>\n",
       "      <td>9.340988e-01<\/td>\n",
       "      <td>9.463514e-01<\/td>\n",
       "      <td>9.341414e-01<\/td>\n",
       "      <td>6.634154e-03<\/td>\n",
       "    <\/tr>\n",
       "  <\/tbody>\n",
       "<\/table>\n",
       "<\/div>"
      ]
     },
     "metadata":{
      
     },
     "output_type":"display_data"
    }
   ],
   "metadata":{
    "datalore":{
     "node_id":"W4XFNF8Yexy6aLX8vGqwD2",
     "type":"CODE",
     "hide_input_from_viewers":true,
     "hide_output_from_viewers":true
    }
   }
  },
  {
   "cell_type":"markdown",
   "source":[
    "#### Кросс-валидация для sklearn модели"
   ],
   "attachments":{
    
   },
   "metadata":{
    "datalore":{
     "node_id":"Cdu42wCAXaakvWRTdHWSc1",
     "type":"MD",
     "hide_input_from_viewers":true,
     "hide_output_from_viewers":true
    }
   }
  },
  {
   "cell_type":"code",
   "source":[
    "scores = cross_validate(\n",
    "    Ridge(alpha=1),\n",
    "    X_train_scaled,\n",
    "    y_train,\n",
    "    cv=5,\n",
    "    scoring=('neg_root_mean_squared_error', 'neg_mean_squared_error', 'r2'),\n",
    "    return_train_score=True\n",
    ")\n",
    "\n",
    "scorings = [\n",
    "    'train_neg_mean_squared_error',\n",
    "    'test_neg_mean_squared_error',\n",
    "    'train_neg_root_mean_squared_error',\n",
    "    'test_neg_root_mean_squared_error',\n",
    "    'train_r2',\n",
    "    'test_r2',\n",
    "]\n",
    "\n",
    "cv_data = {\n",
    "    f'Fold{fold_index + 1}': [scores[scoring][fold_index] for scoring in scorings] \n",
    "    for fold_index in range(5)\n",
    "}\n",
    "cv_data['E'] = [np.mean(scores[scoring]) for scoring in scorings]\n",
    "cv_data['STD'] = [np.std(scores[scoring]) for scoring in scorings]\n",
    "pd.DataFrame(data=cv_data, index=['neg-mse-train', 'neg-mse-test', 'neg-rmse-train', 'neg-rmse-test', 'r2-train', 'r2-test'])"
   ],
   "execution_count":197,
   "outputs":[
    {
     "data":{
      "text\/html":[
       "<div>\n",
       "<style scoped>\n",
       "    .dataframe tbody tr th:only-of-type {\n",
       "        vertical-align: middle;\n",
       "    }\n",
       "\n",
       "    .dataframe tbody tr th {\n",
       "        vertical-align: top;\n",
       "    }\n",
       "\n",
       "    .dataframe thead th {\n",
       "        text-align: right;\n",
       "    }\n",
       "<\/style>\n",
       "<table border=\"1\" class=\"dataframe\">\n",
       "  <thead>\n",
       "    <tr style=\"text-align: right;\">\n",
       "      <th><\/th>\n",
       "      <th>Fold1<\/th>\n",
       "      <th>Fold2<\/th>\n",
       "      <th>Fold3<\/th>\n",
       "      <th>Fold4<\/th>\n",
       "      <th>Fold5<\/th>\n",
       "      <th>E<\/th>\n",
       "      <th>STD<\/th>\n",
       "    <\/tr>\n",
       "  <\/thead>\n",
       "  <tbody>\n",
       "    <tr>\n",
       "      <th>neg-mse-train<\/th>\n",
       "      <td>-2.047299e+10<\/td>\n",
       "      <td>-2.043155e+10<\/td>\n",
       "      <td>-1.985118e+10<\/td>\n",
       "      <td>-2.073401e+10<\/td>\n",
       "      <td>-2.177015e+10<\/td>\n",
       "      <td>-2.065198e+10<\/td>\n",
       "      <td>6.291164e+08<\/td>\n",
       "    <\/tr>\n",
       "    <tr>\n",
       "      <th>neg-mse-test<\/th>\n",
       "      <td>-2.191701e+10<\/td>\n",
       "      <td>-2.215735e+10<\/td>\n",
       "      <td>-2.469824e+10<\/td>\n",
       "      <td>-2.092298e+10<\/td>\n",
       "      <td>-1.671724e+10<\/td>\n",
       "      <td>-2.128257e+10<\/td>\n",
       "      <td>2.600238e+09<\/td>\n",
       "    <\/tr>\n",
       "    <tr>\n",
       "      <th>neg-rmse-train<\/th>\n",
       "      <td>-1.430839e+05<\/td>\n",
       "      <td>-1.429390e+05<\/td>\n",
       "      <td>-1.408942e+05<\/td>\n",
       "      <td>-1.439931e+05<\/td>\n",
       "      <td>-1.475471e+05<\/td>\n",
       "      <td>-1.436915e+05<\/td>\n",
       "      <td>2.177934e+03<\/td>\n",
       "    <\/tr>\n",
       "    <tr>\n",
       "      <th>neg-rmse-test<\/th>\n",
       "      <td>-1.480440e+05<\/td>\n",
       "      <td>-1.488535e+05<\/td>\n",
       "      <td>-1.571568e+05<\/td>\n",
       "      <td>-1.446478e+05<\/td>\n",
       "      <td>-1.292951e+05<\/td>\n",
       "      <td>-1.455994e+05<\/td>\n",
       "      <td>9.130951e+03<\/td>\n",
       "    <\/tr>\n",
       "    <tr>\n",
       "      <th>r2-train<\/th>\n",
       "      <td>9.362414e-01<\/td>\n",
       "      <td>9.368750e-01<\/td>\n",
       "      <td>9.377375e-01<\/td>\n",
       "      <td>9.359648e-01<\/td>\n",
       "      <td>9.330524e-01<\/td>\n",
       "      <td>9.359742e-01<\/td>\n",
       "      <td>1.582969e-03<\/td>\n",
       "    <\/tr>\n",
       "    <tr>\n",
       "      <th>r2-test<\/th>\n",
       "      <td>9.331384e-01<\/td>\n",
       "      <td>9.303093e-01<\/td>\n",
       "      <td>9.267730e-01<\/td>\n",
       "      <td>9.340890e-01<\/td>\n",
       "      <td>9.463441e-01<\/td>\n",
       "      <td>9.341308e-01<\/td>\n",
       "      <td>6.616512e-03<\/td>\n",
       "    <\/tr>\n",
       "  <\/tbody>\n",
       "<\/table>\n",
       "<\/div>"
      ]
     },
     "metadata":{
      
     },
     "output_type":"display_data"
    }
   ],
   "metadata":{
    "datalore":{
     "node_id":"kzHnLcuL3Wj64rvY1Y2r5g",
     "type":"CODE",
     "hide_input_from_viewers":true,
     "hide_output_from_viewers":true
    }
   }
  },
  {
   "cell_type":"markdown",
   "source":[
    "* Оценки моей модели и модели из Sklearn также практически идентичны\n",
    "* Разброс значений небольшой, оценки кросс-валидации и оценки на тестовых данных очень похожи, так что модель не переобучилась"
   ],
   "attachments":{
    
   },
   "metadata":{
    "datalore":{
     "node_id":"rii4pSKPCuac4NO91aLJ6G",
     "type":"MD",
     "hide_input_from_viewers":true,
     "hide_output_from_viewers":true
    }
   }
  },
  {
   "cell_type":"markdown",
   "source":[
    "#### Кросс-валидация и подбор гиперпараметров\n",
    "\n",
    "На самом деле, при использовании `Sklearn` уже происходила кросс-валидация при подборе параметров, было выявлено, что лучший параметр $\\alpha = 1$ для той модели"
   ],
   "attachments":{
    
   },
   "metadata":{
    "datalore":{
     "node_id":"RR5GzRH5IcJEqwVvus8Bbn",
     "type":"MD",
     "hide_input_from_viewers":true,
     "hide_output_from_viewers":true
    }
   }
  },
  {
   "cell_type":"markdown",
   "source":[
    "### Подберем признаки"
   ],
   "attachments":{
    
   },
   "metadata":{
    "datalore":{
     "node_id":"gxBYDkLBEmcldQnCEBEj0R",
     "type":"MD",
     "hide_input_from_viewers":true,
     "hide_output_from_viewers":true
    }
   }
  },
  {
   "cell_type":"code",
   "source":[
    "selector = RFECV(Ridge(), scoring=\"neg_mean_squared_error\")\n",
    "selector = selector.fit(X_train_scaled, y_train)\n",
    "\n",
    "print('---- Ranks ----')\n",
    "for i, feature in enumerate(X_train.columns):\n",
    "    print(f'{feature}: {selector.ranking_[i]}')"
   ],
   "execution_count":198,
   "outputs":[
    {
     "name":"stdout",
     "text":[
      "---- Ranks ----\n",
      "Temperature: 1\n",
      "Fuel_Price: 1\n",
      "CPI: 1\n",
      "Unemployment: 1\n",
      "Store_2: 1\n",
      "Store_3: 1\n",
      "Store_4: 1\n",
      "Store_5: 1\n",
      "Store_6: 4\n",
      "Store_7: 1\n",
      "Store_8: 1\n",
      "Store_9: 1\n",
      "Store_10: 1\n",
      "Store_11: 1\n",
      "Store_12: 3\n",
      "Store_13: 1\n",
      "Store_14: 1\n",
      "Store_15: 1\n",
      "Store_16: 1\n",
      "Store_17: 1\n",
      "Store_18: 1\n",
      "Store_19: 1\n",
      "Store_20: 1\n",
      "Store_21: 1\n",
      "Store_22: 1\n",
      "Store_23: 1\n",
      "Store_24: 1\n",
      "Store_25: 1\n",
      "Store_26: 1\n",
      "Store_27: 1\n",
      "Store_28: 1\n",
      "Store_29: 1\n",
      "Store_30: 1\n",
      "Store_31: 1\n",
      "Store_32: 1\n",
      "Store_33: 1\n",
      "Store_34: 1\n",
      "Store_35: 1\n",
      "Store_36: 1\n",
      "Store_37: 1\n",
      "Store_38: 1\n",
      "Store_39: 1\n",
      "Store_40: 1\n",
      "Store_41: 1\n",
      "Store_42: 1\n",
      "Store_43: 1\n",
      "Store_44: 1\n",
      "Store_45: 1\n",
      "Holiday_Flag_1: 1\n",
      "Week_2: 1\n",
      "Week_3: 1\n",
      "Week_4: 2\n",
      "Week_5: 1\n",
      "Month_2: 1\n",
      "Month_3: 1\n",
      "Month_4: 1\n",
      "Month_5: 1\n",
      "Month_6: 1\n",
      "Month_7: 1\n",
      "Month_8: 1\n",
      "Month_9: 5\n",
      "Month_10: 1\n",
      "Month_11: 1\n",
      "Month_12: 1\n",
      "Year_2011: 1\n",
      "Year_2012: 1\n"
     ],
     "output_type":"stream"
    }
   ],
   "metadata":{
    "datalore":{
     "node_id":"DFW1JismV1c6rPXqnVLahP",
     "type":"CODE",
     "hide_input_from_viewers":true,
     "hide_output_from_viewers":true
    }
   }
  },
  {
   "cell_type":"markdown",
   "source":[
    "* RFECV особого разбиения не дал, посчитал, что почти все признаки важны\n",
    "* Попробуем выбрать признаки по их весам сами"
   ],
   "attachments":{
    
   },
   "metadata":{
    "datalore":{
     "node_id":"cbUuSqqYFBRwr290F8scux",
     "type":"MD",
     "hide_input_from_viewers":true,
     "hide_output_from_viewers":true
    }
   }
  },
  {
   "cell_type":"code",
   "source":[
    "fig, ax = plt.subplots(figsize=(10, 20))\n",
    "model = Ridge()\n",
    "model.fit(X_train_scaled, y_train)\n",
    "\n",
    "sorted_weights = sorted(zip(model.coef_, X_train.columns), reverse=True)\n",
    "weights = [x[0] for x in sorted_weights]\n",
    "features = [x[1] for x in sorted_weights]\n",
    "sns.barplot(y=features, x=weights, ax=ax)\n",
    "plt.show()"
   ],
   "execution_count":199,
   "outputs":[
    {
     "data":{
      "image\/png":"[encoded data removed]"
     },
     "metadata":{
      "image\/png":{
       
      }
     },
     "output_type":"display_data"
    }
   ],
   "metadata":{
    "datalore":{
     "node_id":"qtqyD0EwRP88POgzHXnhiC",
     "type":"CODE",
     "hide_input_from_viewers":true,
     "hide_output_from_viewers":true
    }
   }
  },
  {
   "cell_type":"markdown",
   "source":[
    "* Как и ожидалось, номер магазина играет большую роль, как и CPI, год \n",
    "* Номер месяца и недели слишком большую роль не играет, важны праздничные месяцы (декабрь, ноябрь)\n",
    "* Возьмем признаки, у которых вес больше 25000"
   ],
   "attachments":{
    
   },
   "metadata":{
    "datalore":{
     "node_id":"Ff2azHZ0rcUMhdPX4h9yUT",
     "type":"MD",
     "hide_input_from_viewers":true,
     "hide_output_from_viewers":true
    }
   }
  },
  {
   "cell_type":"code",
   "source":[
    "important_features = np.array(features)[np.abs(weights) > 25000]\n",
    "print('Number of important features:', len(important_features))\n",
    "important_features"
   ],
   "execution_count":205,
   "outputs":[
    {
     "name":"stdout",
     "text":[
      "Number of important features: 43\n"
     ],
     "output_type":"stream"
    },
    {
     "data":{
      "text\/html":[
       "<pre>array(['CPI', 'Store_4', 'Store_13', 'Store_10', 'Store_14', 'Month_12',\n",
       "       'Store_20', 'Store_27', 'Store_2', 'Store_28', 'Store_19',\n",
       "       'Month_11', 'Store_24', 'Month_2', 'Month_6', 'Store_41',\n",
       "       'Store_35', 'Week_5', 'Store_32', 'Store_11', 'Year_2012',\n",
       "       'Store_17', 'Store_40', 'Unemployment', 'Store_15', 'Store_29',\n",
       "       'Store_38', 'Store_42', 'Store_45', 'Store_8', 'Store_43',\n",
       "       'Store_25', 'Store_7', 'Store_21', 'Store_44', 'Store_33',\n",
       "       'Store_16', 'Store_9', 'Store_37', 'Store_30', 'Store_36',\n",
       "       'Store_3', 'Store_5'], dtype='%lt;U14')<\/pre>"
      ]
     },
     "metadata":{
      
     },
     "output_type":"display_data"
    }
   ],
   "metadata":{
    "datalore":{
     "node_id":"j86XxjEkMAilJIxhnOUViB",
     "type":"CODE",
     "hide_input_from_viewers":true,
     "hide_output_from_viewers":true
    }
   }
  },
  {
   "cell_type":"code",
   "source":[
    "sns.heatmap(X_train[important_features].corr(), annot=False, vmin=-1, vmax=1, center=0);"
   ],
   "execution_count":201,
   "outputs":[
    {
     "data":{
      "image\/png":"[encoded data removed]"
     },
     "metadata":{
      "image\/png":{
       
      }
     },
     "output_type":"display_data"
    }
   ],
   "metadata":{
    "datalore":{
     "node_id":"yh0kmzLkzhKFIqNday7CGO",
     "type":"CODE",
     "hide_input_from_viewers":true,
     "hide_output_from_viewers":true
    }
   }
  },
  {
   "cell_type":"markdown",
   "source":[
    "В целом, сильных корреляций нет"
   ],
   "attachments":{
    
   },
   "metadata":{
    "datalore":{
     "node_id":"h4VBygUAJ00qpAtCjyYK0m",
     "type":"MD",
     "hide_input_from_viewers":true,
     "hide_output_from_viewers":true
    }
   }
  },
  {
   "cell_type":"code",
   "source":[
    "support_features = np.abs(model.coef_) > 25000\n",
    "alpha_grid = np.logspace(-4, 1, 6)\n",
    "searcher = GridSearchCV(\n",
    "    Ridge(),\n",
    "    [{\"alpha\": alpha_grid}],\n",
    "    scoring=\"neg_root_mean_squared_error\",\n",
    "    cv=5\n",
    ")\n",
    "searcher.fit(X_train_scaled[:, support_features], y_train)\n",
    "\n",
    "plt.plot(alpha_grid, -searcher.cv_results_[\"mean_test_score\"])\n",
    "plt.xscale(\"log\")\n",
    "plt.xlabel(\"alpha\")\n",
    "plt.ylabel(\"CV score\")"
   ],
   "execution_count":202,
   "outputs":[
    {
     "data":{
      "text\/plain":[
       "Text(0, 0.5, 'CV score')"
      ]
     },
     "metadata":{
      
     },
     "output_type":"display_data"
    },
    {
     "data":{
      "image\/png":"[encoded data removed]"
     },
     "metadata":{
      "image\/png":{
       
      }
     },
     "output_type":"display_data"
    }
   ],
   "metadata":{
    "datalore":{
     "node_id":"WFPtKpDCPBy9TiXOve7P7f",
     "type":"CODE",
     "hide_input_from_viewers":true,
     "hide_output_from_viewers":true
    }
   }
  },
  {
   "cell_type":"code",
   "source":[
    "best_alpha = searcher.best_params_[\"alpha\"]\n",
    "print(f\"Best alpha = {best_alpha:.4f}\")"
   ],
   "execution_count":203,
   "outputs":[
    {
     "name":"stdout",
     "text":[
      "Best alpha = 1.0000\n"
     ],
     "output_type":"stream"
    }
   ],
   "metadata":{
    "datalore":{
     "node_id":"vi94qa2xLXSsxsXe7U1CXJ",
     "type":"CODE",
     "hide_input_from_viewers":true,
     "hide_output_from_viewers":true
    }
   }
  },
  {
   "cell_type":"code",
   "source":[
    "best_sklearn_model = Ridge(alpha=best_alpha)\n",
    "best_sklearn_model.fit(X_train_scaled[:, support_features], y_train)\n",
    "y_test_pred = best_sklearn_model.predict(X_test_scaled[:, support_features])\n",
    "\n",
    "print('--- Best Sklearn model scores ---')\n",
    "print(f\"Model: alpha = {best_alpha}\")\n",
    "print(f\"MSE: {mean_squared_error(y_test_pred, y_test)}\")\n",
    "print(f\"RMSE: {mean_squared_error(y_test_pred, y_test, squared=False)}\")\n",
    "print(f\"R^2: {r2_score(y_test_pred, y_test)}\")"
   ],
   "execution_count":204,
   "outputs":[
    {
     "name":"stdout",
     "text":[
      "--- Best Sklearn model scores ---\n",
      "Model: alpha = 1.0\n",
      "MSE: 18266711738.610508\n",
      "RMSE: 135154.39962728\n",
      "R^2: 0.9394122362560445\n"
     ],
     "output_type":"stream"
    }
   ],
   "metadata":{
    "datalore":{
     "node_id":"ZhWbbUOB5vshdV6y6bAO7c",
     "type":"CODE",
     "hide_input_from_viewers":true,
     "hide_output_from_viewers":true
    }
   }
  },
  {
   "cell_type":"markdown",
   "source":[
    "Значения не сильно ухудшились, можно использовать только эти признаки :)\n"
   ],
   "attachments":{
    
   },
   "metadata":{
    "datalore":{
     "node_id":"ibPzyWWQXLFAUbpu9g5oJB",
     "type":"MD",
     "hide_input_from_viewers":true,
     "hide_output_from_viewers":true
    }
   }
  },
  {
   "cell_type":"markdown",
   "source":[
    "[✔️] Случайным образом разбить данные на обучающую и тестовую выборки, используя методы существующих библиотек.\n",
    "\n",
    "[✔️] При обучении моделей использовать масштабирование данных.\n",
    "\n",
    "[✔️] Обучить модель на обучающей выборке, используя функцию gradient_descent(X, y). Оценить качество модели на обучающей и тестовой выборках, используя MSE, RMSE и R^2.\n",
    "\n",
    "[✔️] Обучить модель, используя существующую библиотеку. Например, в sklearn для L2-регуляризатора можно использовать Ridge. Сравнить качество с Вашей реализацией.\n",
    "\n",
    "[✔️] Повторить тоже самое, но используя кросс-валидацию.\n",
    "\n",
    "[✔️] Создать таблицу, со строками (mse-train, mse-test, rmse-train, rmse-test, r2-train, r2-test) и столбцами (Fold1, Fold2, ..., Foldk, E, STD), где k --- количество фолдов в кросс-валидации, E --- мат. ожидание и STD --- стандартное отклонение. Сделать выводы.\n",
    "\n",
    "[✔️] (+2 балла) Перед обучением моделей подобрать наилучшее количество (и само подмножество) признаков, например используя Recursive Feature Elimination (RFE) из sklearn.\n",
    "\n",
    "[✔️] (+1 балл) Во все ваши реализации добавить возможность настройки нужных гиперпараметров, а в процессе обучения всех моделей осуществить подбор оптимальных значений этих гиперпараметров."
   ],
   "attachments":{
    
   },
   "metadata":{
    "datalore":{
     "node_id":"ZfazoGEtnt3ONC4rFVUTtx",
     "type":"MD",
     "hide_input_from_viewers":true,
     "hide_output_from_viewers":true
    }
   }
  }
 ],
 "metadata":{
  "kernelspec":{
   "display_name":"Python",
   "language":"python",
   "name":"python"
  },
  "datalore":{
   "computation_mode":"JUPYTER",
   "package_manager":"pip",
   "base_environment":"default",
   "packages":[
    
   ],
   "report_row_ids":[
    
   ],
   "version":3
  }
 },
 "nbformat":4,
 "nbformat_minor":4
}